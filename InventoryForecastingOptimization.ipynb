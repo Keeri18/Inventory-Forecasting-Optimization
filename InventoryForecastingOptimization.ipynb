{
 "cells": [
  {
   "cell_type": "code",
   "execution_count": 2,
   "metadata": {
    "_cell_guid": "b1076dfc-b9ad-4769-8c92-a6c4dae69d19",
    "_uuid": "8f2839f25d086af736a60e9eeb907d3b93b6e0e5"
   },
   "outputs": [
    {
     "name": "stdout",
     "output_type": "stream",
     "text": [
      "/kaggle/input/quickservicerestaurantinventorydata/historical_sales.csv\n",
      "/kaggle/input/quickservicerestaurantinventorydata/supplier_details.csv\n",
      "/kaggle/input/quickservicerestaurantinventorydata/historical_order_summary.csv\n",
      "/kaggle/input/quickservicerestaurantinventorydata/recipe.csv\n",
      "/kaggle/input/quickservicerestaurantinventorydata/key_cost_items.csv\n"
     ]
    }
   ],
   "source": [
    "import numpy as np # linear algebra\n",
    "import pandas as pd # data processing, CSV file I/O (e.g. pd.read_csv)\n",
    "import warnings\n",
    "warnings.filterwarnings(\"ignore\")\n",
    "import matplotlib.pyplot as plt\n",
    "import plotly.express as px\n",
    "import plotly.graph_objects as go\n",
    "import chart_studio.plotly as ply\n",
    "\n",
    "# prophet by Facebook\n",
    "from fbprophet import Prophet\n",
    "\n",
    "# Input data files are available in the \"../input/\" directory.\n",
    "\n",
    "import os\n",
    "for dirname, _, filenames in os.walk('/kaggle/input'):\n",
    "    for filename in filenames:\n",
    "        print(os.path.join(dirname, filename))\n",
    "\n",
    "# Any results you write to the current directory are saved as output."
   ]
  },
  {
   "cell_type": "code",
   "execution_count": 3,
   "metadata": {
    "_cell_guid": "79c7e3d0-c299-4dcb-8224-4455121ee9b0",
    "_uuid": "d629ff2d2480ee46fbb7e2d37f6b5fab8052498a"
   },
   "outputs": [],
   "source": [
    "recipe = pd.read_csv('../input/quickservicerestaurantinventorydata/recipe.csv')\n",
    "costs = pd.read_csv('../input/quickservicerestaurantinventorydata/key_cost_items.csv')\n",
    "sales = pd.read_csv('../input/quickservicerestaurantinventorydata/historical_sales.csv', thousands=',')\n",
    "suppliers = pd.read_csv('../input/quickservicerestaurantinventorydata/supplier_details.csv')\n",
    "orders = pd.read_csv('../input/quickservicerestaurantinventorydata/historical_order_summary.csv')"
   ]
  },
  {
   "cell_type": "code",
   "execution_count": 4,
   "metadata": {},
   "outputs": [
    {
     "data": {
      "text/html": [
       "<div>\n",
       "<style scoped>\n",
       "    .dataframe tbody tr th:only-of-type {\n",
       "        vertical-align: middle;\n",
       "    }\n",
       "\n",
       "    .dataframe tbody tr th {\n",
       "        vertical-align: top;\n",
       "    }\n",
       "\n",
       "    .dataframe thead th {\n",
       "        text-align: right;\n",
       "    }\n",
       "</style>\n",
       "<table border=\"1\" class=\"dataframe\">\n",
       "  <thead>\n",
       "    <tr style=\"text-align: right;\">\n",
       "      <th></th>\n",
       "      <th>week_starting</th>\n",
       "      <th>units_sold</th>\n",
       "    </tr>\n",
       "  </thead>\n",
       "  <tbody>\n",
       "    <tr>\n",
       "      <th>0</th>\n",
       "      <td>2012-01-01</td>\n",
       "      <td>85308</td>\n",
       "    </tr>\n",
       "    <tr>\n",
       "      <th>1</th>\n",
       "      <td>2012-01-08</td>\n",
       "      <td>41000</td>\n",
       "    </tr>\n",
       "    <tr>\n",
       "      <th>2</th>\n",
       "      <td>2012-01-15</td>\n",
       "      <td>94323</td>\n",
       "    </tr>\n",
       "    <tr>\n",
       "      <th>3</th>\n",
       "      <td>2012-01-22</td>\n",
       "      <td>120252</td>\n",
       "    </tr>\n",
       "    <tr>\n",
       "      <th>4</th>\n",
       "      <td>2012-01-29</td>\n",
       "      <td>82902</td>\n",
       "    </tr>\n",
       "  </tbody>\n",
       "</table>\n",
       "</div>"
      ],
      "text/plain": [
       "  week_starting  units_sold\n",
       "0    2012-01-01       85308\n",
       "1    2012-01-08       41000\n",
       "2    2012-01-15       94323\n",
       "3    2012-01-22      120252\n",
       "4    2012-01-29       82902"
      ]
     },
     "execution_count": 4,
     "metadata": {},
     "output_type": "execute_result"
    }
   ],
   "source": [
    "sales['Week Starting'] = pd.to_datetime(sales['Week Starting'], infer_datetime_format=True, dayfirst=True)\n",
    "sales.columns = ['week_starting', 'units_sold']\n",
    "sales.sort_values(by='week_starting', inplace=True)\n",
    "sales.head()"
   ]
  },
  {
   "cell_type": "code",
   "execution_count": 5,
   "metadata": {},
   "outputs": [
    {
     "data": {
      "text/html": [
       "        <script type=\"text/javascript\">\n",
       "        window.PlotlyConfig = {MathJaxConfig: 'local'};\n",
       "        if (window.MathJax) {MathJax.Hub.Config({SVG: {font: \"STIX-Web\"}});}\n",
       "        if (typeof require !== 'undefined') {\n",
       "        require.undef(\"plotly\");\n",
       "        requirejs.config({\n",
       "            paths: {\n",
       "                'plotly': ['https://cdn.plot.ly/plotly-latest.min']\n",
       "            }\n",
       "        });\n",
       "        require(['plotly'], function(Plotly) {\n",
       "            window._Plotly = Plotly;\n",
       "        });\n",
       "        }\n",
       "        </script>\n",
       "        "
      ]
     },
     "metadata": {},
     "output_type": "display_data"
    },
    {
     "data": {
      "text/html": [
       "<div>\n",
       "        \n",
       "        \n",
       "            <div id=\"e86985e1-edf2-4b31-b6f3-90558aa94510\" class=\"plotly-graph-div\" style=\"height:600px; width:100%;\"></div>\n",
       "            <script type=\"text/javascript\">\n",
       "                require([\"plotly\"], function(Plotly) {\n",
       "                    window.PLOTLYENV=window.PLOTLYENV || {};\n",
       "                    \n",
       "                if (document.getElementById(\"e86985e1-edf2-4b31-b6f3-90558aa94510\")) {\n",
       "                    Plotly.newPlot(\n",
       "                        'e86985e1-edf2-4b31-b6f3-90558aa94510',\n",
       "                        [{\"hoverlabel\": {\"namelength\": 0}, \"hovertemplate\": \"week_starting=%{x}<br>units_sold=%{y}\", \"legendgroup\": \"\", \"line\": {\"color\": \"#636efa\", \"dash\": \"solid\"}, \"mode\": \"lines\", \"name\": \"\", \"showlegend\": false, \"type\": \"scatter\", \"x\": [\"2012-01-01T00:00:00\", \"2012-01-08T00:00:00\", \"2012-01-15T00:00:00\", \"2012-01-22T00:00:00\", \"2012-01-29T00:00:00\", \"2012-02-05T00:00:00\", \"2012-02-12T00:00:00\", \"2012-02-19T00:00:00\", \"2012-02-26T00:00:00\", \"2012-03-04T00:00:00\", \"2012-03-11T00:00:00\", \"2012-03-18T00:00:00\", \"2012-03-25T00:00:00\", \"2012-04-01T00:00:00\", \"2012-04-08T00:00:00\", \"2012-04-15T00:00:00\", \"2012-04-22T00:00:00\", \"2012-04-29T00:00:00\", \"2012-05-06T00:00:00\", \"2012-05-13T00:00:00\", \"2012-05-20T00:00:00\", \"2012-05-27T00:00:00\", \"2012-06-03T00:00:00\", \"2012-06-10T00:00:00\", \"2012-06-17T00:00:00\", \"2012-06-24T00:00:00\", \"2012-07-01T00:00:00\", \"2012-07-08T00:00:00\", \"2012-07-15T00:00:00\", \"2012-07-22T00:00:00\", \"2012-07-29T00:00:00\", \"2012-08-05T00:00:00\", \"2012-08-12T00:00:00\", \"2012-08-19T00:00:00\", \"2012-08-26T00:00:00\", \"2012-09-02T00:00:00\", \"2012-09-09T00:00:00\", \"2012-09-16T00:00:00\", \"2012-09-23T00:00:00\", \"2012-09-30T00:00:00\", \"2012-10-07T00:00:00\", \"2012-10-14T00:00:00\", \"2012-10-21T00:00:00\", \"2012-10-28T00:00:00\", \"2012-11-04T00:00:00\", \"2012-11-11T00:00:00\", \"2012-11-18T00:00:00\", \"2012-11-25T00:00:00\", \"2012-12-02T00:00:00\", \"2012-12-09T00:00:00\", \"2012-12-16T00:00:00\", \"2012-12-23T00:00:00\", \"2012-12-30T00:00:00\", \"2013-01-06T00:00:00\", \"2013-01-13T00:00:00\", \"2013-01-20T00:00:00\", \"2013-01-27T00:00:00\", \"2013-02-03T00:00:00\", \"2013-02-10T00:00:00\", \"2013-02-17T00:00:00\", \"2013-02-24T00:00:00\", \"2013-03-03T00:00:00\", \"2013-03-10T00:00:00\", \"2013-03-17T00:00:00\", \"2013-03-24T00:00:00\", \"2013-03-31T00:00:00\", \"2013-04-07T00:00:00\", \"2013-04-14T00:00:00\", \"2013-04-21T00:00:00\", \"2013-04-28T00:00:00\", \"2013-05-05T00:00:00\", \"2013-05-12T00:00:00\", \"2013-05-19T00:00:00\", \"2013-05-26T00:00:00\"], \"xaxis\": \"x\", \"y\": [85308, 41000, 94323, 120252, 82902, 80170, 89084, 84297, 97045, 92346, 95002, 98170, 97000, 95799, 83070, 90762, 96318, 65000, 82270, 80824, 83047, 80459, 86392, 99223, 105111, 120234, 136167, 124592, 124322, 126323, 140419, 133187, 142104, 110822, 100743, 82090, 98803, 99162, 89444, 89048, 81521, 87738, 81325, 83735, 115292, 89873, 81151, 81856, 83320, 38201, 97737, 80237, 81962, 96734, 99592, 115726, 80746, 95501, 89469, 85078, 82627, 83878, 93227, 89213, 94491, 82564, 92142, 91147, 65495, 65232, 88392, 80976, 89849, 96005], \"yaxis\": \"y\"}],\n",
       "                        {\"height\": 600, \"legend\": {\"tracegroupgap\": 0}, \"margin\": {\"t\": 60}, \"template\": {\"data\": {\"bar\": [{\"error_x\": {\"color\": \"#2a3f5f\"}, \"error_y\": {\"color\": \"#2a3f5f\"}, \"marker\": {\"line\": {\"color\": \"#E5ECF6\", \"width\": 0.5}}, \"type\": \"bar\"}], \"barpolar\": [{\"marker\": {\"line\": {\"color\": \"#E5ECF6\", \"width\": 0.5}}, \"type\": \"barpolar\"}], \"carpet\": [{\"aaxis\": {\"endlinecolor\": \"#2a3f5f\", \"gridcolor\": \"white\", \"linecolor\": \"white\", \"minorgridcolor\": \"white\", \"startlinecolor\": \"#2a3f5f\"}, \"baxis\": {\"endlinecolor\": \"#2a3f5f\", \"gridcolor\": \"white\", \"linecolor\": \"white\", \"minorgridcolor\": \"white\", \"startlinecolor\": \"#2a3f5f\"}, \"type\": \"carpet\"}], \"choropleth\": [{\"colorbar\": {\"outlinewidth\": 0, \"ticks\": \"\"}, \"type\": \"choropleth\"}], \"contour\": [{\"colorbar\": {\"outlinewidth\": 0, \"ticks\": \"\"}, \"colorscale\": [[0.0, \"#0d0887\"], [0.1111111111111111, \"#46039f\"], [0.2222222222222222, \"#7201a8\"], [0.3333333333333333, \"#9c179e\"], [0.4444444444444444, \"#bd3786\"], [0.5555555555555556, \"#d8576b\"], [0.6666666666666666, \"#ed7953\"], [0.7777777777777778, \"#fb9f3a\"], [0.8888888888888888, \"#fdca26\"], [1.0, \"#f0f921\"]], \"type\": \"contour\"}], \"contourcarpet\": [{\"colorbar\": {\"outlinewidth\": 0, \"ticks\": \"\"}, \"type\": \"contourcarpet\"}], \"heatmap\": [{\"colorbar\": {\"outlinewidth\": 0, \"ticks\": \"\"}, \"colorscale\": [[0.0, \"#0d0887\"], [0.1111111111111111, \"#46039f\"], [0.2222222222222222, \"#7201a8\"], [0.3333333333333333, \"#9c179e\"], [0.4444444444444444, \"#bd3786\"], [0.5555555555555556, \"#d8576b\"], [0.6666666666666666, \"#ed7953\"], [0.7777777777777778, \"#fb9f3a\"], [0.8888888888888888, \"#fdca26\"], [1.0, \"#f0f921\"]], \"type\": \"heatmap\"}], \"heatmapgl\": [{\"colorbar\": {\"outlinewidth\": 0, \"ticks\": \"\"}, \"colorscale\": [[0.0, \"#0d0887\"], [0.1111111111111111, \"#46039f\"], [0.2222222222222222, \"#7201a8\"], [0.3333333333333333, \"#9c179e\"], [0.4444444444444444, \"#bd3786\"], [0.5555555555555556, \"#d8576b\"], [0.6666666666666666, \"#ed7953\"], [0.7777777777777778, \"#fb9f3a\"], [0.8888888888888888, \"#fdca26\"], [1.0, \"#f0f921\"]], \"type\": \"heatmapgl\"}], \"histogram\": [{\"marker\": {\"colorbar\": {\"outlinewidth\": 0, \"ticks\": \"\"}}, \"type\": \"histogram\"}], \"histogram2d\": [{\"colorbar\": {\"outlinewidth\": 0, \"ticks\": \"\"}, \"colorscale\": [[0.0, \"#0d0887\"], [0.1111111111111111, \"#46039f\"], [0.2222222222222222, \"#7201a8\"], [0.3333333333333333, \"#9c179e\"], [0.4444444444444444, \"#bd3786\"], [0.5555555555555556, \"#d8576b\"], [0.6666666666666666, \"#ed7953\"], [0.7777777777777778, \"#fb9f3a\"], [0.8888888888888888, \"#fdca26\"], [1.0, \"#f0f921\"]], \"type\": \"histogram2d\"}], \"histogram2dcontour\": [{\"colorbar\": {\"outlinewidth\": 0, \"ticks\": \"\"}, \"colorscale\": [[0.0, \"#0d0887\"], [0.1111111111111111, \"#46039f\"], [0.2222222222222222, \"#7201a8\"], [0.3333333333333333, \"#9c179e\"], [0.4444444444444444, \"#bd3786\"], [0.5555555555555556, \"#d8576b\"], [0.6666666666666666, \"#ed7953\"], [0.7777777777777778, \"#fb9f3a\"], [0.8888888888888888, \"#fdca26\"], [1.0, \"#f0f921\"]], \"type\": \"histogram2dcontour\"}], \"mesh3d\": [{\"colorbar\": {\"outlinewidth\": 0, \"ticks\": \"\"}, \"type\": \"mesh3d\"}], \"parcoords\": [{\"line\": {\"colorbar\": {\"outlinewidth\": 0, \"ticks\": \"\"}}, \"type\": \"parcoords\"}], \"scatter\": [{\"marker\": {\"colorbar\": {\"outlinewidth\": 0, \"ticks\": \"\"}}, \"type\": \"scatter\"}], \"scatter3d\": [{\"line\": {\"colorbar\": {\"outlinewidth\": 0, \"ticks\": \"\"}}, \"marker\": {\"colorbar\": {\"outlinewidth\": 0, \"ticks\": \"\"}}, \"type\": \"scatter3d\"}], \"scattercarpet\": [{\"marker\": {\"colorbar\": {\"outlinewidth\": 0, \"ticks\": \"\"}}, \"type\": \"scattercarpet\"}], \"scattergeo\": [{\"marker\": {\"colorbar\": {\"outlinewidth\": 0, \"ticks\": \"\"}}, \"type\": \"scattergeo\"}], \"scattergl\": [{\"marker\": {\"colorbar\": {\"outlinewidth\": 0, \"ticks\": \"\"}}, \"type\": \"scattergl\"}], \"scattermapbox\": [{\"marker\": {\"colorbar\": {\"outlinewidth\": 0, \"ticks\": \"\"}}, \"type\": \"scattermapbox\"}], \"scatterpolar\": [{\"marker\": {\"colorbar\": {\"outlinewidth\": 0, \"ticks\": \"\"}}, \"type\": \"scatterpolar\"}], \"scatterpolargl\": [{\"marker\": {\"colorbar\": {\"outlinewidth\": 0, \"ticks\": \"\"}}, \"type\": \"scatterpolargl\"}], \"scatterternary\": [{\"marker\": {\"colorbar\": {\"outlinewidth\": 0, \"ticks\": \"\"}}, \"type\": \"scatterternary\"}], \"surface\": [{\"colorbar\": {\"outlinewidth\": 0, \"ticks\": \"\"}, \"colorscale\": [[0.0, \"#0d0887\"], [0.1111111111111111, \"#46039f\"], [0.2222222222222222, \"#7201a8\"], [0.3333333333333333, \"#9c179e\"], [0.4444444444444444, \"#bd3786\"], [0.5555555555555556, \"#d8576b\"], [0.6666666666666666, \"#ed7953\"], [0.7777777777777778, \"#fb9f3a\"], [0.8888888888888888, \"#fdca26\"], [1.0, \"#f0f921\"]], \"type\": \"surface\"}], \"table\": [{\"cells\": {\"fill\": {\"color\": \"#EBF0F8\"}, \"line\": {\"color\": \"white\"}}, \"header\": {\"fill\": {\"color\": \"#C8D4E3\"}, \"line\": {\"color\": \"white\"}}, \"type\": \"table\"}]}, \"layout\": {\"annotationdefaults\": {\"arrowcolor\": \"#2a3f5f\", \"arrowhead\": 0, \"arrowwidth\": 1}, \"colorscale\": {\"diverging\": [[0, \"#8e0152\"], [0.1, \"#c51b7d\"], [0.2, \"#de77ae\"], [0.3, \"#f1b6da\"], [0.4, \"#fde0ef\"], [0.5, \"#f7f7f7\"], [0.6, \"#e6f5d0\"], [0.7, \"#b8e186\"], [0.8, \"#7fbc41\"], [0.9, \"#4d9221\"], [1, \"#276419\"]], \"sequential\": [[0.0, \"#0d0887\"], [0.1111111111111111, \"#46039f\"], [0.2222222222222222, \"#7201a8\"], [0.3333333333333333, \"#9c179e\"], [0.4444444444444444, \"#bd3786\"], [0.5555555555555556, \"#d8576b\"], [0.6666666666666666, \"#ed7953\"], [0.7777777777777778, \"#fb9f3a\"], [0.8888888888888888, \"#fdca26\"], [1.0, \"#f0f921\"]], \"sequentialminus\": [[0.0, \"#0d0887\"], [0.1111111111111111, \"#46039f\"], [0.2222222222222222, \"#7201a8\"], [0.3333333333333333, \"#9c179e\"], [0.4444444444444444, \"#bd3786\"], [0.5555555555555556, \"#d8576b\"], [0.6666666666666666, \"#ed7953\"], [0.7777777777777778, \"#fb9f3a\"], [0.8888888888888888, \"#fdca26\"], [1.0, \"#f0f921\"]]}, \"colorway\": [\"#636efa\", \"#EF553B\", \"#00cc96\", \"#ab63fa\", \"#FFA15A\", \"#19d3f3\", \"#FF6692\", \"#B6E880\", \"#FF97FF\", \"#FECB52\"], \"font\": {\"color\": \"#2a3f5f\"}, \"geo\": {\"bgcolor\": \"white\", \"lakecolor\": \"white\", \"landcolor\": \"#E5ECF6\", \"showlakes\": true, \"showland\": true, \"subunitcolor\": \"white\"}, \"hoverlabel\": {\"align\": \"left\"}, \"hovermode\": \"closest\", \"mapbox\": {\"style\": \"light\"}, \"paper_bgcolor\": \"white\", \"plot_bgcolor\": \"#E5ECF6\", \"polar\": {\"angularaxis\": {\"gridcolor\": \"white\", \"linecolor\": \"white\", \"ticks\": \"\"}, \"bgcolor\": \"#E5ECF6\", \"radialaxis\": {\"gridcolor\": \"white\", \"linecolor\": \"white\", \"ticks\": \"\"}}, \"scene\": {\"xaxis\": {\"backgroundcolor\": \"#E5ECF6\", \"gridcolor\": \"white\", \"gridwidth\": 2, \"linecolor\": \"white\", \"showbackground\": true, \"ticks\": \"\", \"zerolinecolor\": \"white\"}, \"yaxis\": {\"backgroundcolor\": \"#E5ECF6\", \"gridcolor\": \"white\", \"gridwidth\": 2, \"linecolor\": \"white\", \"showbackground\": true, \"ticks\": \"\", \"zerolinecolor\": \"white\"}, \"zaxis\": {\"backgroundcolor\": \"#E5ECF6\", \"gridcolor\": \"white\", \"gridwidth\": 2, \"linecolor\": \"white\", \"showbackground\": true, \"ticks\": \"\", \"zerolinecolor\": \"white\"}}, \"shapedefaults\": {\"line\": {\"color\": \"#2a3f5f\"}}, \"ternary\": {\"aaxis\": {\"gridcolor\": \"white\", \"linecolor\": \"white\", \"ticks\": \"\"}, \"baxis\": {\"gridcolor\": \"white\", \"linecolor\": \"white\", \"ticks\": \"\"}, \"bgcolor\": \"#E5ECF6\", \"caxis\": {\"gridcolor\": \"white\", \"linecolor\": \"white\", \"ticks\": \"\"}}, \"title\": {\"x\": 0.05}, \"xaxis\": {\"automargin\": true, \"gridcolor\": \"white\", \"linecolor\": \"white\", \"ticks\": \"\", \"zerolinecolor\": \"white\", \"zerolinewidth\": 2}, \"yaxis\": {\"automargin\": true, \"gridcolor\": \"white\", \"linecolor\": \"white\", \"ticks\": \"\", \"zerolinecolor\": \"white\", \"zerolinewidth\": 2}}}, \"xaxis\": {\"anchor\": \"y\", \"domain\": [0.0, 0.98], \"title\": {\"text\": \"week_starting\"}}, \"yaxis\": {\"anchor\": \"x\", \"domain\": [0.0, 1.0], \"title\": {\"text\": \"units_sold\"}}},\n",
       "                        {\"responsive\": true}\n",
       "                    ).then(function(){\n",
       "                            \n",
       "var gd = document.getElementById('e86985e1-edf2-4b31-b6f3-90558aa94510');\n",
       "var x = new MutationObserver(function (mutations, observer) {{\n",
       "        var display = window.getComputedStyle(gd).display;\n",
       "        if (!display || display === 'none') {{\n",
       "            console.log([gd, 'removed!']);\n",
       "            Plotly.purge(gd);\n",
       "            observer.disconnect();\n",
       "        }}\n",
       "}});\n",
       "\n",
       "// Listen for the removal of the full notebook cells\n",
       "var notebookContainer = gd.closest('#notebook-container');\n",
       "if (notebookContainer) {{\n",
       "    x.observe(notebookContainer, {childList: true});\n",
       "}}\n",
       "\n",
       "// Listen for the clearing of the current output cell\n",
       "var outputEl = gd.closest('.output');\n",
       "if (outputEl) {{\n",
       "    x.observe(outputEl, {childList: true});\n",
       "}}\n",
       "\n",
       "                        })\n",
       "                };\n",
       "                });\n",
       "            </script>\n",
       "        </div>"
      ]
     },
     "metadata": {},
     "output_type": "display_data"
    }
   ],
   "source": [
    "fig = px.line(sales, x='week_starting', y='units_sold')\n",
    "fig.show()"
   ]
  },
  {
   "cell_type": "markdown",
   "metadata": {},
   "source": [
    "Roughly constant demand ignoring seasonal, cyclical and random components"
   ]
  },
  {
   "cell_type": "code",
   "execution_count": 6,
   "metadata": {},
   "outputs": [],
   "source": [
    "# Handling outliers\n",
    "# https://facebook.github.io/prophet/docs/outliers.html\n",
    "sales['units_sold'][sales['units_sold']<60000] = 65000"
   ]
  },
  {
   "cell_type": "code",
   "execution_count": 7,
   "metadata": {},
   "outputs": [
    {
     "data": {
      "text/html": [
       "<div>\n",
       "        \n",
       "        \n",
       "            <div id=\"540f9b6c-8f9d-4aad-88a5-1edb59fc8902\" class=\"plotly-graph-div\" style=\"height:600px; width:100%;\"></div>\n",
       "            <script type=\"text/javascript\">\n",
       "                require([\"plotly\"], function(Plotly) {\n",
       "                    window.PLOTLYENV=window.PLOTLYENV || {};\n",
       "                    \n",
       "                if (document.getElementById(\"540f9b6c-8f9d-4aad-88a5-1edb59fc8902\")) {\n",
       "                    Plotly.newPlot(\n",
       "                        '540f9b6c-8f9d-4aad-88a5-1edb59fc8902',\n",
       "                        [{\"hoverlabel\": {\"namelength\": 0}, \"hovertemplate\": \"week_starting=%{x}<br>units_sold=%{y}\", \"legendgroup\": \"\", \"line\": {\"color\": \"#636efa\", \"dash\": \"solid\"}, \"mode\": \"lines\", \"name\": \"\", \"showlegend\": false, \"type\": \"scatter\", \"x\": [\"2012-01-01T00:00:00\", \"2012-01-08T00:00:00\", \"2012-01-15T00:00:00\", \"2012-01-22T00:00:00\", \"2012-01-29T00:00:00\", \"2012-02-05T00:00:00\", \"2012-02-12T00:00:00\", \"2012-02-19T00:00:00\", \"2012-02-26T00:00:00\", \"2012-03-04T00:00:00\", \"2012-03-11T00:00:00\", \"2012-03-18T00:00:00\", \"2012-03-25T00:00:00\", \"2012-04-01T00:00:00\", \"2012-04-08T00:00:00\", \"2012-04-15T00:00:00\", \"2012-04-22T00:00:00\", \"2012-04-29T00:00:00\", \"2012-05-06T00:00:00\", \"2012-05-13T00:00:00\", \"2012-05-20T00:00:00\", \"2012-05-27T00:00:00\", \"2012-06-03T00:00:00\", \"2012-06-10T00:00:00\", \"2012-06-17T00:00:00\", \"2012-06-24T00:00:00\", \"2012-07-01T00:00:00\", \"2012-07-08T00:00:00\", \"2012-07-15T00:00:00\", \"2012-07-22T00:00:00\", \"2012-07-29T00:00:00\", \"2012-08-05T00:00:00\", \"2012-08-12T00:00:00\", \"2012-08-19T00:00:00\", \"2012-08-26T00:00:00\", \"2012-09-02T00:00:00\", \"2012-09-09T00:00:00\", \"2012-09-16T00:00:00\", \"2012-09-23T00:00:00\", \"2012-09-30T00:00:00\", \"2012-10-07T00:00:00\", \"2012-10-14T00:00:00\", \"2012-10-21T00:00:00\", \"2012-10-28T00:00:00\", \"2012-11-04T00:00:00\", \"2012-11-11T00:00:00\", \"2012-11-18T00:00:00\", \"2012-11-25T00:00:00\", \"2012-12-02T00:00:00\", \"2012-12-09T00:00:00\", \"2012-12-16T00:00:00\", \"2012-12-23T00:00:00\", \"2012-12-30T00:00:00\", \"2013-01-06T00:00:00\", \"2013-01-13T00:00:00\", \"2013-01-20T00:00:00\", \"2013-01-27T00:00:00\", \"2013-02-03T00:00:00\", \"2013-02-10T00:00:00\", \"2013-02-17T00:00:00\", \"2013-02-24T00:00:00\", \"2013-03-03T00:00:00\", \"2013-03-10T00:00:00\", \"2013-03-17T00:00:00\", \"2013-03-24T00:00:00\", \"2013-03-31T00:00:00\", \"2013-04-07T00:00:00\", \"2013-04-14T00:00:00\", \"2013-04-21T00:00:00\", \"2013-04-28T00:00:00\", \"2013-05-05T00:00:00\", \"2013-05-12T00:00:00\", \"2013-05-19T00:00:00\", \"2013-05-26T00:00:00\"], \"xaxis\": \"x\", \"y\": [85308, 65000, 94323, 120252, 82902, 80170, 89084, 84297, 97045, 92346, 95002, 98170, 97000, 95799, 83070, 90762, 96318, 65000, 82270, 80824, 83047, 80459, 86392, 99223, 105111, 120234, 136167, 124592, 124322, 126323, 140419, 133187, 142104, 110822, 100743, 82090, 98803, 99162, 89444, 89048, 81521, 87738, 81325, 83735, 115292, 89873, 81151, 81856, 83320, 65000, 97737, 80237, 81962, 96734, 99592, 115726, 80746, 95501, 89469, 85078, 82627, 83878, 93227, 89213, 94491, 82564, 92142, 91147, 65495, 65232, 88392, 80976, 89849, 96005], \"yaxis\": \"y\"}],\n",
       "                        {\"height\": 600, \"legend\": {\"tracegroupgap\": 0}, \"margin\": {\"t\": 60}, \"template\": {\"data\": {\"bar\": [{\"error_x\": {\"color\": \"#2a3f5f\"}, \"error_y\": {\"color\": \"#2a3f5f\"}, \"marker\": {\"line\": {\"color\": \"#E5ECF6\", \"width\": 0.5}}, \"type\": \"bar\"}], \"barpolar\": [{\"marker\": {\"line\": {\"color\": \"#E5ECF6\", \"width\": 0.5}}, \"type\": \"barpolar\"}], \"carpet\": [{\"aaxis\": {\"endlinecolor\": \"#2a3f5f\", \"gridcolor\": \"white\", \"linecolor\": \"white\", \"minorgridcolor\": \"white\", \"startlinecolor\": \"#2a3f5f\"}, \"baxis\": {\"endlinecolor\": \"#2a3f5f\", \"gridcolor\": \"white\", \"linecolor\": \"white\", \"minorgridcolor\": \"white\", \"startlinecolor\": \"#2a3f5f\"}, \"type\": \"carpet\"}], \"choropleth\": [{\"colorbar\": {\"outlinewidth\": 0, \"ticks\": \"\"}, \"type\": \"choropleth\"}], \"contour\": [{\"colorbar\": {\"outlinewidth\": 0, \"ticks\": \"\"}, \"colorscale\": [[0.0, \"#0d0887\"], [0.1111111111111111, \"#46039f\"], [0.2222222222222222, \"#7201a8\"], [0.3333333333333333, \"#9c179e\"], [0.4444444444444444, \"#bd3786\"], [0.5555555555555556, \"#d8576b\"], [0.6666666666666666, \"#ed7953\"], [0.7777777777777778, \"#fb9f3a\"], [0.8888888888888888, \"#fdca26\"], [1.0, \"#f0f921\"]], \"type\": \"contour\"}], \"contourcarpet\": [{\"colorbar\": {\"outlinewidth\": 0, \"ticks\": \"\"}, \"type\": \"contourcarpet\"}], \"heatmap\": [{\"colorbar\": {\"outlinewidth\": 0, \"ticks\": \"\"}, \"colorscale\": [[0.0, \"#0d0887\"], [0.1111111111111111, \"#46039f\"], [0.2222222222222222, \"#7201a8\"], [0.3333333333333333, \"#9c179e\"], [0.4444444444444444, \"#bd3786\"], [0.5555555555555556, \"#d8576b\"], [0.6666666666666666, \"#ed7953\"], [0.7777777777777778, \"#fb9f3a\"], [0.8888888888888888, \"#fdca26\"], [1.0, \"#f0f921\"]], \"type\": \"heatmap\"}], \"heatmapgl\": [{\"colorbar\": {\"outlinewidth\": 0, \"ticks\": \"\"}, \"colorscale\": [[0.0, \"#0d0887\"], [0.1111111111111111, \"#46039f\"], [0.2222222222222222, \"#7201a8\"], [0.3333333333333333, \"#9c179e\"], [0.4444444444444444, \"#bd3786\"], [0.5555555555555556, \"#d8576b\"], [0.6666666666666666, \"#ed7953\"], [0.7777777777777778, \"#fb9f3a\"], [0.8888888888888888, \"#fdca26\"], [1.0, \"#f0f921\"]], \"type\": \"heatmapgl\"}], \"histogram\": [{\"marker\": {\"colorbar\": {\"outlinewidth\": 0, \"ticks\": \"\"}}, \"type\": \"histogram\"}], \"histogram2d\": [{\"colorbar\": {\"outlinewidth\": 0, \"ticks\": \"\"}, \"colorscale\": [[0.0, \"#0d0887\"], [0.1111111111111111, \"#46039f\"], [0.2222222222222222, \"#7201a8\"], [0.3333333333333333, \"#9c179e\"], [0.4444444444444444, \"#bd3786\"], [0.5555555555555556, \"#d8576b\"], [0.6666666666666666, \"#ed7953\"], [0.7777777777777778, \"#fb9f3a\"], [0.8888888888888888, \"#fdca26\"], [1.0, \"#f0f921\"]], \"type\": \"histogram2d\"}], \"histogram2dcontour\": [{\"colorbar\": {\"outlinewidth\": 0, \"ticks\": \"\"}, \"colorscale\": [[0.0, \"#0d0887\"], [0.1111111111111111, \"#46039f\"], [0.2222222222222222, \"#7201a8\"], [0.3333333333333333, \"#9c179e\"], [0.4444444444444444, \"#bd3786\"], [0.5555555555555556, \"#d8576b\"], [0.6666666666666666, \"#ed7953\"], [0.7777777777777778, \"#fb9f3a\"], [0.8888888888888888, \"#fdca26\"], [1.0, \"#f0f921\"]], \"type\": \"histogram2dcontour\"}], \"mesh3d\": [{\"colorbar\": {\"outlinewidth\": 0, \"ticks\": \"\"}, \"type\": \"mesh3d\"}], \"parcoords\": [{\"line\": {\"colorbar\": {\"outlinewidth\": 0, \"ticks\": \"\"}}, \"type\": \"parcoords\"}], \"scatter\": [{\"marker\": {\"colorbar\": {\"outlinewidth\": 0, \"ticks\": \"\"}}, \"type\": \"scatter\"}], \"scatter3d\": [{\"line\": {\"colorbar\": {\"outlinewidth\": 0, \"ticks\": \"\"}}, \"marker\": {\"colorbar\": {\"outlinewidth\": 0, \"ticks\": \"\"}}, \"type\": \"scatter3d\"}], \"scattercarpet\": [{\"marker\": {\"colorbar\": {\"outlinewidth\": 0, \"ticks\": \"\"}}, \"type\": \"scattercarpet\"}], \"scattergeo\": [{\"marker\": {\"colorbar\": {\"outlinewidth\": 0, \"ticks\": \"\"}}, \"type\": \"scattergeo\"}], \"scattergl\": [{\"marker\": {\"colorbar\": {\"outlinewidth\": 0, \"ticks\": \"\"}}, \"type\": \"scattergl\"}], \"scattermapbox\": [{\"marker\": {\"colorbar\": {\"outlinewidth\": 0, \"ticks\": \"\"}}, \"type\": \"scattermapbox\"}], \"scatterpolar\": [{\"marker\": {\"colorbar\": {\"outlinewidth\": 0, \"ticks\": \"\"}}, \"type\": \"scatterpolar\"}], \"scatterpolargl\": [{\"marker\": {\"colorbar\": {\"outlinewidth\": 0, \"ticks\": \"\"}}, \"type\": \"scatterpolargl\"}], \"scatterternary\": [{\"marker\": {\"colorbar\": {\"outlinewidth\": 0, \"ticks\": \"\"}}, \"type\": \"scatterternary\"}], \"surface\": [{\"colorbar\": {\"outlinewidth\": 0, \"ticks\": \"\"}, \"colorscale\": [[0.0, \"#0d0887\"], [0.1111111111111111, \"#46039f\"], [0.2222222222222222, \"#7201a8\"], [0.3333333333333333, \"#9c179e\"], [0.4444444444444444, \"#bd3786\"], [0.5555555555555556, \"#d8576b\"], [0.6666666666666666, \"#ed7953\"], [0.7777777777777778, \"#fb9f3a\"], [0.8888888888888888, \"#fdca26\"], [1.0, \"#f0f921\"]], \"type\": \"surface\"}], \"table\": [{\"cells\": {\"fill\": {\"color\": \"#EBF0F8\"}, \"line\": {\"color\": \"white\"}}, \"header\": {\"fill\": {\"color\": \"#C8D4E3\"}, \"line\": {\"color\": \"white\"}}, \"type\": \"table\"}]}, \"layout\": {\"annotationdefaults\": {\"arrowcolor\": \"#2a3f5f\", \"arrowhead\": 0, \"arrowwidth\": 1}, \"colorscale\": {\"diverging\": [[0, \"#8e0152\"], [0.1, \"#c51b7d\"], [0.2, \"#de77ae\"], [0.3, \"#f1b6da\"], [0.4, \"#fde0ef\"], [0.5, \"#f7f7f7\"], [0.6, \"#e6f5d0\"], [0.7, \"#b8e186\"], [0.8, \"#7fbc41\"], [0.9, \"#4d9221\"], [1, \"#276419\"]], \"sequential\": [[0.0, \"#0d0887\"], [0.1111111111111111, \"#46039f\"], [0.2222222222222222, \"#7201a8\"], [0.3333333333333333, \"#9c179e\"], [0.4444444444444444, \"#bd3786\"], [0.5555555555555556, \"#d8576b\"], [0.6666666666666666, \"#ed7953\"], [0.7777777777777778, \"#fb9f3a\"], [0.8888888888888888, \"#fdca26\"], [1.0, \"#f0f921\"]], \"sequentialminus\": [[0.0, \"#0d0887\"], [0.1111111111111111, \"#46039f\"], [0.2222222222222222, \"#7201a8\"], [0.3333333333333333, \"#9c179e\"], [0.4444444444444444, \"#bd3786\"], [0.5555555555555556, \"#d8576b\"], [0.6666666666666666, \"#ed7953\"], [0.7777777777777778, \"#fb9f3a\"], [0.8888888888888888, \"#fdca26\"], [1.0, \"#f0f921\"]]}, \"colorway\": [\"#636efa\", \"#EF553B\", \"#00cc96\", \"#ab63fa\", \"#FFA15A\", \"#19d3f3\", \"#FF6692\", \"#B6E880\", \"#FF97FF\", \"#FECB52\"], \"font\": {\"color\": \"#2a3f5f\"}, \"geo\": {\"bgcolor\": \"white\", \"lakecolor\": \"white\", \"landcolor\": \"#E5ECF6\", \"showlakes\": true, \"showland\": true, \"subunitcolor\": \"white\"}, \"hoverlabel\": {\"align\": \"left\"}, \"hovermode\": \"closest\", \"mapbox\": {\"style\": \"light\"}, \"paper_bgcolor\": \"white\", \"plot_bgcolor\": \"#E5ECF6\", \"polar\": {\"angularaxis\": {\"gridcolor\": \"white\", \"linecolor\": \"white\", \"ticks\": \"\"}, \"bgcolor\": \"#E5ECF6\", \"radialaxis\": {\"gridcolor\": \"white\", \"linecolor\": \"white\", \"ticks\": \"\"}}, \"scene\": {\"xaxis\": {\"backgroundcolor\": \"#E5ECF6\", \"gridcolor\": \"white\", \"gridwidth\": 2, \"linecolor\": \"white\", \"showbackground\": true, \"ticks\": \"\", \"zerolinecolor\": \"white\"}, \"yaxis\": {\"backgroundcolor\": \"#E5ECF6\", \"gridcolor\": \"white\", \"gridwidth\": 2, \"linecolor\": \"white\", \"showbackground\": true, \"ticks\": \"\", \"zerolinecolor\": \"white\"}, \"zaxis\": {\"backgroundcolor\": \"#E5ECF6\", \"gridcolor\": \"white\", \"gridwidth\": 2, \"linecolor\": \"white\", \"showbackground\": true, \"ticks\": \"\", \"zerolinecolor\": \"white\"}}, \"shapedefaults\": {\"line\": {\"color\": \"#2a3f5f\"}}, \"ternary\": {\"aaxis\": {\"gridcolor\": \"white\", \"linecolor\": \"white\", \"ticks\": \"\"}, \"baxis\": {\"gridcolor\": \"white\", \"linecolor\": \"white\", \"ticks\": \"\"}, \"bgcolor\": \"#E5ECF6\", \"caxis\": {\"gridcolor\": \"white\", \"linecolor\": \"white\", \"ticks\": \"\"}}, \"title\": {\"x\": 0.05}, \"xaxis\": {\"automargin\": true, \"gridcolor\": \"white\", \"linecolor\": \"white\", \"ticks\": \"\", \"zerolinecolor\": \"white\", \"zerolinewidth\": 2}, \"yaxis\": {\"automargin\": true, \"gridcolor\": \"white\", \"linecolor\": \"white\", \"ticks\": \"\", \"zerolinecolor\": \"white\", \"zerolinewidth\": 2}}}, \"xaxis\": {\"anchor\": \"y\", \"domain\": [0.0, 0.98], \"title\": {\"text\": \"week_starting\"}}, \"yaxis\": {\"anchor\": \"x\", \"domain\": [0.0, 1.0], \"title\": {\"text\": \"units_sold\"}}},\n",
       "                        {\"responsive\": true}\n",
       "                    ).then(function(){\n",
       "                            \n",
       "var gd = document.getElementById('540f9b6c-8f9d-4aad-88a5-1edb59fc8902');\n",
       "var x = new MutationObserver(function (mutations, observer) {{\n",
       "        var display = window.getComputedStyle(gd).display;\n",
       "        if (!display || display === 'none') {{\n",
       "            console.log([gd, 'removed!']);\n",
       "            Plotly.purge(gd);\n",
       "            observer.disconnect();\n",
       "        }}\n",
       "}});\n",
       "\n",
       "// Listen for the removal of the full notebook cells\n",
       "var notebookContainer = gd.closest('#notebook-container');\n",
       "if (notebookContainer) {{\n",
       "    x.observe(notebookContainer, {childList: true});\n",
       "}}\n",
       "\n",
       "// Listen for the clearing of the current output cell\n",
       "var outputEl = gd.closest('.output');\n",
       "if (outputEl) {{\n",
       "    x.observe(outputEl, {childList: true});\n",
       "}}\n",
       "\n",
       "                        })\n",
       "                };\n",
       "                });\n",
       "            </script>\n",
       "        </div>"
      ]
     },
     "metadata": {},
     "output_type": "display_data"
    }
   ],
   "source": [
    "fig = px.line(sales, x='week_starting', y='units_sold')\n",
    "fig.show()"
   ]
  },
  {
   "cell_type": "markdown",
   "metadata": {},
   "source": [
    "We can use an additive model when it seems that the trend is more linear and the seasonality and trend components seem to be constant over time (e.g. every time period, we add 100 units). A multiplicative model is more appropriate when we are increasing (or decreasing) at a non-linear rate (e.g. we double every time period)"
   ]
  },
  {
   "cell_type": "code",
   "execution_count": 8,
   "metadata": {},
   "outputs": [
    {
     "data": {
      "text/html": [
       "<div>\n",
       "<style scoped>\n",
       "    .dataframe tbody tr th:only-of-type {\n",
       "        vertical-align: middle;\n",
       "    }\n",
       "\n",
       "    .dataframe tbody tr th {\n",
       "        vertical-align: top;\n",
       "    }\n",
       "\n",
       "    .dataframe thead th {\n",
       "        text-align: right;\n",
       "    }\n",
       "</style>\n",
       "<table border=\"1\" class=\"dataframe\">\n",
       "  <thead>\n",
       "    <tr style=\"text-align: right;\">\n",
       "      <th></th>\n",
       "      <th>units_sold</th>\n",
       "    </tr>\n",
       "    <tr>\n",
       "      <th>week_starting</th>\n",
       "      <th></th>\n",
       "    </tr>\n",
       "  </thead>\n",
       "  <tbody>\n",
       "    <tr>\n",
       "      <th>2012-01-01</th>\n",
       "      <td>85308</td>\n",
       "    </tr>\n",
       "    <tr>\n",
       "      <th>2012-01-08</th>\n",
       "      <td>65000</td>\n",
       "    </tr>\n",
       "    <tr>\n",
       "      <th>2012-01-15</th>\n",
       "      <td>94323</td>\n",
       "    </tr>\n",
       "    <tr>\n",
       "      <th>2012-01-22</th>\n",
       "      <td>120252</td>\n",
       "    </tr>\n",
       "    <tr>\n",
       "      <th>2012-01-29</th>\n",
       "      <td>82902</td>\n",
       "    </tr>\n",
       "  </tbody>\n",
       "</table>\n",
       "</div>"
      ],
      "text/plain": [
       "               units_sold\n",
       "week_starting            \n",
       "2012-01-01          85308\n",
       "2012-01-08          65000\n",
       "2012-01-15          94323\n",
       "2012-01-22         120252\n",
       "2012-01-29          82902"
      ]
     },
     "execution_count": 8,
     "metadata": {},
     "output_type": "execute_result"
    }
   ],
   "source": [
    "dt_index = pd.DatetimeIndex(sales.week_starting, freq='infer')\n",
    "sales_date_index = sales.set_index(dt_index)\n",
    "sales_date_index.drop(columns=['week_starting'], inplace=True)\n",
    "sales_date_index.sort_index(inplace=True)\n",
    "sales_date_index.head()"
   ]
  },
  {
   "cell_type": "code",
   "execution_count": 9,
   "metadata": {},
   "outputs": [],
   "source": [
    "# train test split\n",
    "train_size = int(len(sales_date_index) * 0.9)\n",
    "train, test = sales_date_index[0:train_size], sales_date_index[train_size:len(sales_date_index)]"
   ]
  },
  {
   "cell_type": "code",
   "execution_count": 10,
   "metadata": {},
   "outputs": [
    {
     "name": "stdout",
     "output_type": "stream",
     "text": [
      "74\n",
      "66\n",
      "8\n"
     ]
    }
   ],
   "source": [
    "print(len(sales_date_index))\n",
    "print(len(train))\n",
    "print(len(test))"
   ]
  },
  {
   "cell_type": "markdown",
   "metadata": {},
   "source": [
    "#### TREND & TREND PARAMETERS\n",
    "business insights can be applied: trend changepoints can be manually fed  \n",
    "e.g. jump of sales during holidays, increased sales due to decrease costs  \n",
    "As the number of changepoints allowed is increased the fit becomes more flexible.  \n",
    "problems with trend component: Overfitting and Underfitting  \n",
    "solution: changepoint_prior_scale parameter (to adjust trend flexibility).  \n",
    "Higher changepoint_prior_scale value will fit a more flexible curve to the time series.  \n",
    "\n",
    "**growth**:\tlinear’ or ‘logistic’ to specify a linear or logistic trend  \n",
    "**changepoints**:\tList of dates at which to include potential changepoints (automatic if not specified)  \n",
    "**n_changepoints**:\tIf changepoints in not supplied, you may provide the number of changepoints to be   automatically included  \n",
    "**changepoint_prior_scale**:\tParameter for changing flexibility of automatic changepoint selection"
   ]
  },
  {
   "cell_type": "markdown",
   "metadata": {},
   "source": [
    "#### SEASONALITY\n",
    "To fit and forecast the effects of seasonality, prophet relies on fourier series  \n",
    "The **fourier order N** is an important parameter to set here  \n",
    "N that defines whether high frequency changes are allowed to be modelled.  \n",
    "For a time series, if the user believes the high frequency components are just noise  \n",
    "and should not be considered for modelling, he/she could set the values of N from to a lower value.  \n",
    "If not, N can be tuned to a higher value and set using the forecast accuracy.\n",
    "https://facebook.github.io/prophet/docs/multiplicative_seasonality.html"
   ]
  },
  {
   "cell_type": "markdown",
   "metadata": {},
   "source": [
    "#### HOLIDAYS & EVENTS\n",
    "Prophet allows the analyst to provide a custom list of  past and future events.  \n",
    "A window around such days are considered separately and additional parameters are fitted  \n",
    "to model the effect of holidays and events.  "
   ]
  },
  {
   "cell_type": "markdown",
   "metadata": {},
   "source": [
    "#### SEASONALITY & HOLIDAY PARAMETERS\n",
    "**yearly_seasonality**\tFit yearly seasonality  \n",
    "**weekly_seasonality**\tFit weekly seasonality  \n",
    "**daily_seasonality**\tFit daily seasonality  \n",
    "**holidays**\tFeed dataframe containing holiday name and date  \n",
    "**seasonality_prior_scale**\tParameter for changing strength of seasonality model  \n",
    "**holiday_prior_scale**\tParameter for changing strength of holiday model  \n",
    "  \n",
    "yearly_seasonality, weekly_seasonality & daily_seasonality can take values as True, False and no. of fourier terms which was discussed in the last section. If the value is True, default number of fourier terms (10) are taken. Prior scales are defined to tell the model how strongly it needs to consider the seasonal/holiday components while fitting and forecasting."
   ]
  },
  {
   "cell_type": "code",
   "execution_count": 11,
   "metadata": {},
   "outputs": [],
   "source": [
    "# Carrying capacity, forecasting growth and saturating minimum\n",
    "# We are not using these parameters in our case"
   ]
  },
  {
   "cell_type": "code",
   "execution_count": 12,
   "metadata": {},
   "outputs": [],
   "source": [
    "# Prophet requires the variable names in the time series to be:\n",
    "# y – Target\n",
    "# ds – Datetime\n",
    "train['ds'] = train.index\n",
    "train['y'] = train.units_sold\n",
    "train.drop(['units_sold'],axis = 1, inplace = True)"
   ]
  },
  {
   "cell_type": "markdown",
   "metadata": {},
   "source": [
    "Uncertainty \n",
    "\n",
    "Data with Gap: only make predictions for the time windows for which there are historical data"
   ]
  },
  {
   "cell_type": "code",
   "execution_count": 13,
   "metadata": {},
   "outputs": [],
   "source": [
    "# confidence interval\n",
    "model1=Prophet(interval_width=0.95, yearly_seasonality=True, weekly_seasonality=False) # by default is 80%"
   ]
  },
  {
   "cell_type": "code",
   "execution_count": 14,
   "metadata": {},
   "outputs": [
    {
     "data": {
      "text/plain": [
       "<fbprophet.forecaster.Prophet at 0x7f016816bf28>"
      ]
     },
     "execution_count": 14,
     "metadata": {},
     "output_type": "execute_result"
    }
   ],
   "source": [
    "model1.fit(train)"
   ]
  },
  {
   "cell_type": "code",
   "execution_count": 15,
   "metadata": {},
   "outputs": [
    {
     "data": {
      "text/html": [
       "<div>\n",
       "<style scoped>\n",
       "    .dataframe tbody tr th:only-of-type {\n",
       "        vertical-align: middle;\n",
       "    }\n",
       "\n",
       "    .dataframe tbody tr th {\n",
       "        vertical-align: top;\n",
       "    }\n",
       "\n",
       "    .dataframe thead th {\n",
       "        text-align: right;\n",
       "    }\n",
       "</style>\n",
       "<table border=\"1\" class=\"dataframe\">\n",
       "  <thead>\n",
       "    <tr style=\"text-align: right;\">\n",
       "      <th></th>\n",
       "      <th>ds</th>\n",
       "    </tr>\n",
       "  </thead>\n",
       "  <tbody>\n",
       "    <tr>\n",
       "      <th>0</th>\n",
       "      <td>2012-01-01</td>\n",
       "    </tr>\n",
       "    <tr>\n",
       "      <th>1</th>\n",
       "      <td>2012-01-08</td>\n",
       "    </tr>\n",
       "    <tr>\n",
       "      <th>2</th>\n",
       "      <td>2012-01-15</td>\n",
       "    </tr>\n",
       "    <tr>\n",
       "      <th>3</th>\n",
       "      <td>2012-01-22</td>\n",
       "    </tr>\n",
       "    <tr>\n",
       "      <th>4</th>\n",
       "      <td>2012-01-29</td>\n",
       "    </tr>\n",
       "    <tr>\n",
       "      <th>...</th>\n",
       "      <td>...</td>\n",
       "    </tr>\n",
       "    <tr>\n",
       "      <th>69</th>\n",
       "      <td>2013-04-28</td>\n",
       "    </tr>\n",
       "    <tr>\n",
       "      <th>70</th>\n",
       "      <td>2013-05-05</td>\n",
       "    </tr>\n",
       "    <tr>\n",
       "      <th>71</th>\n",
       "      <td>2013-05-12</td>\n",
       "    </tr>\n",
       "    <tr>\n",
       "      <th>72</th>\n",
       "      <td>2013-05-19</td>\n",
       "    </tr>\n",
       "    <tr>\n",
       "      <th>73</th>\n",
       "      <td>2013-05-26</td>\n",
       "    </tr>\n",
       "  </tbody>\n",
       "</table>\n",
       "<p>74 rows × 1 columns</p>\n",
       "</div>"
      ],
      "text/plain": [
       "           ds\n",
       "0  2012-01-01\n",
       "1  2012-01-08\n",
       "2  2012-01-15\n",
       "3  2012-01-22\n",
       "4  2012-01-29\n",
       "..        ...\n",
       "69 2013-04-28\n",
       "70 2013-05-05\n",
       "71 2013-05-12\n",
       "72 2013-05-19\n",
       "73 2013-05-26\n",
       "\n",
       "[74 rows x 1 columns]"
      ]
     },
     "execution_count": 15,
     "metadata": {},
     "output_type": "execute_result"
    }
   ],
   "source": [
    "future = model1.make_future_dataframe(periods=8, freq='W')\n",
    "future"
   ]
  },
  {
   "cell_type": "code",
   "execution_count": 16,
   "metadata": {},
   "outputs": [
    {
     "data": {
      "text/html": [
       "<div>\n",
       "<style scoped>\n",
       "    .dataframe tbody tr th:only-of-type {\n",
       "        vertical-align: middle;\n",
       "    }\n",
       "\n",
       "    .dataframe tbody tr th {\n",
       "        vertical-align: top;\n",
       "    }\n",
       "\n",
       "    .dataframe thead th {\n",
       "        text-align: right;\n",
       "    }\n",
       "</style>\n",
       "<table border=\"1\" class=\"dataframe\">\n",
       "  <thead>\n",
       "    <tr style=\"text-align: right;\">\n",
       "      <th></th>\n",
       "      <th>yhat</th>\n",
       "      <th>yhat_lower</th>\n",
       "      <th>yhat_upper</th>\n",
       "    </tr>\n",
       "  </thead>\n",
       "  <tbody>\n",
       "    <tr>\n",
       "      <th>0</th>\n",
       "      <td>83077.982433</td>\n",
       "      <td>67321.859138</td>\n",
       "      <td>99849.660742</td>\n",
       "    </tr>\n",
       "    <tr>\n",
       "      <th>1</th>\n",
       "      <td>89462.462912</td>\n",
       "      <td>73349.158161</td>\n",
       "      <td>105385.762913</td>\n",
       "    </tr>\n",
       "    <tr>\n",
       "      <th>2</th>\n",
       "      <td>97280.829026</td>\n",
       "      <td>82387.079687</td>\n",
       "      <td>113820.328772</td>\n",
       "    </tr>\n",
       "    <tr>\n",
       "      <th>3</th>\n",
       "      <td>100566.474745</td>\n",
       "      <td>85821.963224</td>\n",
       "      <td>116027.320676</td>\n",
       "    </tr>\n",
       "    <tr>\n",
       "      <th>4</th>\n",
       "      <td>96574.605303</td>\n",
       "      <td>80768.495680</td>\n",
       "      <td>112634.699583</td>\n",
       "    </tr>\n",
       "    <tr>\n",
       "      <th>...</th>\n",
       "      <td>...</td>\n",
       "      <td>...</td>\n",
       "      <td>...</td>\n",
       "    </tr>\n",
       "    <tr>\n",
       "      <th>69</th>\n",
       "      <td>79711.394861</td>\n",
       "      <td>62891.280821</td>\n",
       "      <td>96229.637334</td>\n",
       "    </tr>\n",
       "    <tr>\n",
       "      <th>70</th>\n",
       "      <td>78607.231029</td>\n",
       "      <td>63121.246223</td>\n",
       "      <td>92872.416710</td>\n",
       "    </tr>\n",
       "    <tr>\n",
       "      <th>71</th>\n",
       "      <td>80055.013828</td>\n",
       "      <td>64407.239712</td>\n",
       "      <td>96302.461693</td>\n",
       "    </tr>\n",
       "    <tr>\n",
       "      <th>72</th>\n",
       "      <td>81584.201869</td>\n",
       "      <td>66073.146732</td>\n",
       "      <td>97080.312109</td>\n",
       "    </tr>\n",
       "    <tr>\n",
       "      <th>73</th>\n",
       "      <td>82392.578408</td>\n",
       "      <td>66422.509657</td>\n",
       "      <td>98669.374238</td>\n",
       "    </tr>\n",
       "  </tbody>\n",
       "</table>\n",
       "<p>74 rows × 3 columns</p>\n",
       "</div>"
      ],
      "text/plain": [
       "             yhat    yhat_lower     yhat_upper\n",
       "0    83077.982433  67321.859138   99849.660742\n",
       "1    89462.462912  73349.158161  105385.762913\n",
       "2    97280.829026  82387.079687  113820.328772\n",
       "3   100566.474745  85821.963224  116027.320676\n",
       "4    96574.605303  80768.495680  112634.699583\n",
       "..            ...           ...            ...\n",
       "69   79711.394861  62891.280821   96229.637334\n",
       "70   78607.231029  63121.246223   92872.416710\n",
       "71   80055.013828  64407.239712   96302.461693\n",
       "72   81584.201869  66073.146732   97080.312109\n",
       "73   82392.578408  66422.509657   98669.374238\n",
       "\n",
       "[74 rows x 3 columns]"
      ]
     },
     "execution_count": 16,
     "metadata": {},
     "output_type": "execute_result"
    }
   ],
   "source": [
    "forecast = model1.predict(future)\n",
    "forecast[['yhat', 'yhat_lower', 'yhat_upper']]"
   ]
  },
  {
   "cell_type": "code",
   "execution_count": 17,
   "metadata": {},
   "outputs": [
    {
     "data": {
      "image/png": "[encoded data removed]",
      "text/plain": [
       "<Figure size 648x432 with 2 Axes>"
      ]
     },
     "metadata": {},
     "output_type": "display_data"
    }
   ],
   "source": [
    "components = model1.plot_components(forecast)\n",
    "components.show()"
   ]
  },
  {
   "cell_type": "code",
   "execution_count": 18,
   "metadata": {},
   "outputs": [
    {
     "data": {
      "text/plain": [
       "week_starting\n",
       "2013-04-07    92142\n",
       "2013-04-14    91147\n",
       "2013-04-21    65495\n",
       "2013-04-28    65232\n",
       "2013-05-05    88392\n",
       "2013-05-12    80976\n",
       "2013-05-19    89849\n",
       "2013-05-26    96005\n",
       "Freq: W-SUN, Name: units_sold, dtype: int64"
      ]
     },
     "execution_count": 18,
     "metadata": {},
     "output_type": "execute_result"
    }
   ],
   "source": [
    "# Calculate MAPE (mean absolute percentage error on predicted values)\n",
    "test['units_sold']"
   ]
  },
  {
   "cell_type": "code",
   "execution_count": 19,
   "metadata": {},
   "outputs": [
    {
     "name": "stdout",
     "output_type": "stream",
     "text": [
      "MAPE:  11.124771695593386 %\n"
     ]
    }
   ],
   "source": [
    "# Calculate MAPE (Mean absolute percentage error)\n",
    "forecast.set_index('ds', inplace=True) # Uncomment this while running\n",
    "temp = (test['units_sold'] - forecast.loc['2013-04-07':,'yhat'])\n",
    "print(\"MAPE: \",(temp.abs()/test['units_sold']).mean() * 100, \"%\")"
   ]
  },
  {
   "cell_type": "code",
   "execution_count": 20,
   "metadata": {},
   "outputs": [
    {
     "data": {
      "text/plain": [
       "ds\n",
       "2013-04-07    91623.086883\n",
       "2013-04-14    88874.263319\n",
       "2013-04-21    83938.551664\n",
       "2013-04-28    79711.394861\n",
       "2013-05-05    78607.231029\n",
       "2013-05-12    80055.013828\n",
       "2013-05-19    81584.201869\n",
       "2013-05-26    82392.578408\n",
       "Name: yhat, dtype: float64"
      ]
     },
     "execution_count": 20,
     "metadata": {},
     "output_type": "execute_result"
    }
   ],
   "source": [
    "forecast.loc['2013-04-07':,'yhat']"
   ]
  },
  {
   "cell_type": "code",
   "execution_count": 21,
   "metadata": {},
   "outputs": [
    {
     "data": {
      "text/html": [
       "<div>\n",
       "        \n",
       "        \n",
       "            <div id=\"8aa7c066-db09-474e-93dd-84add62acd40\" class=\"plotly-graph-div\" style=\"height:525px; width:100%;\"></div>\n",
       "            <script type=\"text/javascript\">\n",
       "                require([\"plotly\"], function(Plotly) {\n",
       "                    window.PLOTLYENV=window.PLOTLYENV || {};\n",
       "                    \n",
       "                if (document.getElementById(\"8aa7c066-db09-474e-93dd-84add62acd40\")) {\n",
       "                    Plotly.newPlot(\n",
       "                        '8aa7c066-db09-474e-93dd-84add62acd40',\n",
       "                        [{\"line\": {\"color\": \"deepskyblue\"}, \"name\": \"units_sold\", \"type\": \"scatter\", \"x\": [\"2012-01-01T00:00:00\", \"2012-01-08T00:00:00\", \"2012-01-15T00:00:00\", \"2012-01-22T00:00:00\", \"2012-01-29T00:00:00\", \"2012-02-05T00:00:00\", \"2012-02-12T00:00:00\", \"2012-02-19T00:00:00\", \"2012-02-26T00:00:00\", \"2012-03-04T00:00:00\", \"2012-03-11T00:00:00\", \"2012-03-18T00:00:00\", \"2012-03-25T00:00:00\", \"2012-04-01T00:00:00\", \"2012-04-08T00:00:00\", \"2012-04-15T00:00:00\", \"2012-04-22T00:00:00\", \"2012-04-29T00:00:00\", \"2012-05-06T00:00:00\", \"2012-05-13T00:00:00\", \"2012-05-20T00:00:00\", \"2012-05-27T00:00:00\", \"2012-06-03T00:00:00\", \"2012-06-10T00:00:00\", \"2012-06-17T00:00:00\", \"2012-06-24T00:00:00\", \"2012-07-01T00:00:00\", \"2012-07-08T00:00:00\", \"2012-07-15T00:00:00\", \"2012-07-22T00:00:00\", \"2012-07-29T00:00:00\", \"2012-08-05T00:00:00\", \"2012-08-12T00:00:00\", \"2012-08-19T00:00:00\", \"2012-08-26T00:00:00\", \"2012-09-02T00:00:00\", \"2012-09-09T00:00:00\", \"2012-09-16T00:00:00\", \"2012-09-23T00:00:00\", \"2012-09-30T00:00:00\", \"2012-10-07T00:00:00\", \"2012-10-14T00:00:00\", \"2012-10-21T00:00:00\", \"2012-10-28T00:00:00\", \"2012-11-04T00:00:00\", \"2012-11-11T00:00:00\", \"2012-11-18T00:00:00\", \"2012-11-25T00:00:00\", \"2012-12-02T00:00:00\", \"2012-12-09T00:00:00\", \"2012-12-16T00:00:00\", \"2012-12-23T00:00:00\", \"2012-12-30T00:00:00\", \"2013-01-06T00:00:00\", \"2013-01-13T00:00:00\", \"2013-01-20T00:00:00\", \"2013-01-27T00:00:00\", \"2013-02-03T00:00:00\", \"2013-02-10T00:00:00\", \"2013-02-17T00:00:00\", \"2013-02-24T00:00:00\", \"2013-03-03T00:00:00\", \"2013-03-10T00:00:00\", \"2013-03-17T00:00:00\", \"2013-03-24T00:00:00\", \"2013-03-31T00:00:00\", \"2013-04-07T00:00:00\", \"2013-04-14T00:00:00\", \"2013-04-21T00:00:00\", \"2013-04-28T00:00:00\", \"2013-05-05T00:00:00\", \"2013-05-12T00:00:00\", \"2013-05-19T00:00:00\", \"2013-05-26T00:00:00\"], \"y\": [85308, 65000, 94323, 120252, 82902, 80170, 89084, 84297, 97045, 92346, 95002, 98170, 97000, 95799, 83070, 90762, 96318, 65000, 82270, 80824, 83047, 80459, 86392, 99223, 105111, 120234, 136167, 124592, 124322, 126323, 140419, 133187, 142104, 110822, 100743, 82090, 98803, 99162, 89444, 89048, 81521, 87738, 81325, 83735, 115292, 89873, 81151, 81856, 83320, 65000, 97737, 80237, 81962, 96734, 99592, 115726, 80746, 95501, 89469, 85078, 82627, 83878, 93227, 89213, 94491, 82564, 92142, 91147, 65495, 65232, 88392, 80976, 89849, 96005]}, {\"line\": {\"color\": \"indianred\"}, \"name\": \"predicted\", \"type\": \"scatter\", \"x\": [\"2012-01-01T00:00:00\", \"2012-01-08T00:00:00\", \"2012-01-15T00:00:00\", \"2012-01-22T00:00:00\", \"2012-01-29T00:00:00\", \"2012-02-05T00:00:00\", \"2012-02-12T00:00:00\", \"2012-02-19T00:00:00\", \"2012-02-26T00:00:00\", \"2012-03-04T00:00:00\", \"2012-03-11T00:00:00\", \"2012-03-18T00:00:00\", \"2012-03-25T00:00:00\", \"2012-04-01T00:00:00\", \"2012-04-08T00:00:00\", \"2012-04-15T00:00:00\", \"2012-04-22T00:00:00\", \"2012-04-29T00:00:00\", \"2012-05-06T00:00:00\", \"2012-05-13T00:00:00\", \"2012-05-20T00:00:00\", \"2012-05-27T00:00:00\", \"2012-06-03T00:00:00\", \"2012-06-10T00:00:00\", \"2012-06-17T00:00:00\", \"2012-06-24T00:00:00\", \"2012-07-01T00:00:00\", \"2012-07-08T00:00:00\", \"2012-07-15T00:00:00\", \"2012-07-22T00:00:00\", \"2012-07-29T00:00:00\", \"2012-08-05T00:00:00\", \"2012-08-12T00:00:00\", \"2012-08-19T00:00:00\", \"2012-08-26T00:00:00\", \"2012-09-02T00:00:00\", \"2012-09-09T00:00:00\", \"2012-09-16T00:00:00\", \"2012-09-23T00:00:00\", \"2012-09-30T00:00:00\", \"2012-10-07T00:00:00\", \"2012-10-14T00:00:00\", \"2012-10-21T00:00:00\", \"2012-10-28T00:00:00\", \"2012-11-04T00:00:00\", \"2012-11-11T00:00:00\", \"2012-11-18T00:00:00\", \"2012-11-25T00:00:00\", \"2012-12-02T00:00:00\", \"2012-12-09T00:00:00\", \"2012-12-16T00:00:00\", \"2012-12-23T00:00:00\", \"2012-12-30T00:00:00\", \"2013-01-06T00:00:00\", \"2013-01-13T00:00:00\", \"2013-01-20T00:00:00\", \"2013-01-27T00:00:00\", \"2013-02-03T00:00:00\", \"2013-02-10T00:00:00\", \"2013-02-17T00:00:00\", \"2013-02-24T00:00:00\", \"2013-03-03T00:00:00\", \"2013-03-10T00:00:00\", \"2013-03-17T00:00:00\", \"2013-03-24T00:00:00\", \"2013-03-31T00:00:00\", \"2013-04-07T00:00:00\", \"2013-04-14T00:00:00\", \"2013-04-21T00:00:00\", \"2013-04-28T00:00:00\", \"2013-05-05T00:00:00\", \"2013-05-12T00:00:00\", \"2013-05-19T00:00:00\", \"2013-05-26T00:00:00\"], \"y\": [83077.98243254468, 89462.46291191674, 97280.82902570961, 100566.47474490658, 96574.60530262705, 88681.71730737657, 83296.21289671102, 84015.78623595767, 88885.2066236193, 93102.96459780619, 93894.94990104272, 92470.64532187268, 91562.93786287839, 91837.61442540873, 91288.8949367857, 88027.68070882375, 82971.21501188168, 79194.00887693549, 78679.54702155406, 80324.29357782923, 81683.95747950104, 82560.30975486978, 86085.35102959396, 95477.98494073286, 109639.35783457976, 122676.20810218836, 128722.44801920929, 127615.2730560069, 125352.6959093874, 128126.54639800044, 135505.0500777277, 139896.13997899822, 133557.74274430308, 116665.81562623111, 98297.80040460802, 88811.91469571994, 90680.0982084854, 96665.16554972726, 97178.34012751849, 89611.12955770148, 80510.05585131329, 78647.76104645955, 86084.18494767508, 96094.57634135644, 99726.935681173, 94154.23474419638, 84609.1664461798, 78582.84331633504, 78722.37056021379, 81557.50228623554, 82579.7317704138, 81589.99692343741, 82491.63126347623, 88119.61309811428, 96117.8492649913, 100577.78165360217, 97806.34961877577, 90150.14246905102, 83904.7277367758, 83524.70218666505, 87989.85304492357, 92638.98554873804, 94057.50192234383, 92818.4040450844, 91677.75069611764, 91834.92500161054, 91623.08688324524, 88874.26331918885, 83938.55166401877, 79711.39486094759, 78607.23102892257, 80055.01382752585, 81584.20186940969, 82392.5784079121]}, {\"fill\": \"tonexty\", \"fillcolor\": \"rgba(68, 68, 68, 0.3)\", \"line\": {\"width\": 0}, \"marker\": {\"color\": \"#444\"}, \"mode\": \"lines\", \"name\": \"Upper Bound\", \"type\": \"scatter\", \"x\": [\"2012-01-01T00:00:00\", \"2012-01-08T00:00:00\", \"2012-01-15T00:00:00\", \"2012-01-22T00:00:00\", \"2012-01-29T00:00:00\", \"2012-02-05T00:00:00\", \"2012-02-12T00:00:00\", \"2012-02-19T00:00:00\", \"2012-02-26T00:00:00\", \"2012-03-04T00:00:00\", \"2012-03-11T00:00:00\", \"2012-03-18T00:00:00\", \"2012-03-25T00:00:00\", \"2012-04-01T00:00:00\", \"2012-04-08T00:00:00\", \"2012-04-15T00:00:00\", \"2012-04-22T00:00:00\", \"2012-04-29T00:00:00\", \"2012-05-06T00:00:00\", \"2012-05-13T00:00:00\", \"2012-05-20T00:00:00\", \"2012-05-27T00:00:00\", \"2012-06-03T00:00:00\", \"2012-06-10T00:00:00\", \"2012-06-17T00:00:00\", \"2012-06-24T00:00:00\", \"2012-07-01T00:00:00\", \"2012-07-08T00:00:00\", \"2012-07-15T00:00:00\", \"2012-07-22T00:00:00\", \"2012-07-29T00:00:00\", \"2012-08-05T00:00:00\", \"2012-08-12T00:00:00\", \"2012-08-19T00:00:00\", \"2012-08-26T00:00:00\", \"2012-09-02T00:00:00\", \"2012-09-09T00:00:00\", \"2012-09-16T00:00:00\", \"2012-09-23T00:00:00\", \"2012-09-30T00:00:00\", \"2012-10-07T00:00:00\", \"2012-10-14T00:00:00\", \"2012-10-21T00:00:00\", \"2012-10-28T00:00:00\", \"2012-11-04T00:00:00\", \"2012-11-11T00:00:00\", \"2012-11-18T00:00:00\", \"2012-11-25T00:00:00\", \"2012-12-02T00:00:00\", \"2012-12-09T00:00:00\", \"2012-12-16T00:00:00\", \"2012-12-23T00:00:00\", \"2012-12-30T00:00:00\", \"2013-01-06T00:00:00\", \"2013-01-13T00:00:00\", \"2013-01-20T00:00:00\", \"2013-01-27T00:00:00\", \"2013-02-03T00:00:00\", \"2013-02-10T00:00:00\", \"2013-02-17T00:00:00\", \"2013-02-24T00:00:00\", \"2013-03-03T00:00:00\", \"2013-03-10T00:00:00\", \"2013-03-17T00:00:00\", \"2013-03-24T00:00:00\", \"2013-03-31T00:00:00\", \"2013-04-07T00:00:00\", \"2013-04-14T00:00:00\", \"2013-04-21T00:00:00\", \"2013-04-28T00:00:00\", \"2013-05-05T00:00:00\", \"2013-05-12T00:00:00\", \"2013-05-19T00:00:00\", \"2013-05-26T00:00:00\"], \"y\": [99849.6607421053, 105385.76291299213, 113820.3287718126, 116027.32067610596, 112634.69958265625, 103231.1553719259, 98295.56956182262, 101155.7399485828, 104519.71080213027, 108713.01276373299, 109107.79323466057, 107460.1443763311, 107220.82528357334, 107782.46013095819, 107420.48768365059, 104432.90197628902, 98052.96018713301, 95584.86180977749, 93746.09044707238, 95722.14330367206, 97612.84426112907, 96662.70569565568, 101330.61662401423, 110052.74384075256, 125029.08536229384, 137564.30701329943, 145701.00289050804, 143968.24775611973, 139817.05423008735, 143012.28398463313, 151326.3593713173, 155796.4435537193, 149606.84425051167, 131362.9232022773, 115090.03422592557, 104514.91249900295, 107290.74035790321, 113757.92236088314, 112742.89567586896, 105939.07975011221, 96114.24823104321, 93828.1735644946, 101116.38443603952, 110112.704147514, 115033.74179182915, 109795.61885341302, 99482.12377748644, 94571.6266185812, 93490.40809109592, 98209.71930628082, 98374.2752089158, 97849.65588925862, 97907.81214249443, 103306.43926611045, 111659.5860088292, 116852.2152378983, 114120.13223480807, 105531.62471610392, 100488.8658695157, 97720.41422385878, 103489.59049821623, 107616.88891713324, 110219.63705274272, 109235.68603833897, 107542.86128256435, 107731.95972467943, 106998.1827682789, 103532.16526837317, 99797.18298288524, 96229.6373336435, 92872.41671039346, 96302.46169325961, 97080.31210861067, 98669.3742384463]}, {\"fill\": \"tonexty\", \"fillcolor\": \"rgba(68, 68, 68, 0.3)\", \"line\": {\"width\": 0}, \"marker\": {\"color\": \"#444\"}, \"mode\": \"lines\", \"name\": \"Lower Bound\", \"type\": \"scatter\", \"x\": [\"2012-01-01T00:00:00\", \"2012-01-08T00:00:00\", \"2012-01-15T00:00:00\", \"2012-01-22T00:00:00\", \"2012-01-29T00:00:00\", \"2012-02-05T00:00:00\", \"2012-02-12T00:00:00\", \"2012-02-19T00:00:00\", \"2012-02-26T00:00:00\", \"2012-03-04T00:00:00\", \"2012-03-11T00:00:00\", \"2012-03-18T00:00:00\", \"2012-03-25T00:00:00\", \"2012-04-01T00:00:00\", \"2012-04-08T00:00:00\", \"2012-04-15T00:00:00\", \"2012-04-22T00:00:00\", \"2012-04-29T00:00:00\", \"2012-05-06T00:00:00\", \"2012-05-13T00:00:00\", \"2012-05-20T00:00:00\", \"2012-05-27T00:00:00\", \"2012-06-03T00:00:00\", \"2012-06-10T00:00:00\", \"2012-06-17T00:00:00\", \"2012-06-24T00:00:00\", \"2012-07-01T00:00:00\", \"2012-07-08T00:00:00\", \"2012-07-15T00:00:00\", \"2012-07-22T00:00:00\", \"2012-07-29T00:00:00\", \"2012-08-05T00:00:00\", \"2012-08-12T00:00:00\", \"2012-08-19T00:00:00\", \"2012-08-26T00:00:00\", \"2012-09-02T00:00:00\", \"2012-09-09T00:00:00\", \"2012-09-16T00:00:00\", \"2012-09-23T00:00:00\", \"2012-09-30T00:00:00\", \"2012-10-07T00:00:00\", \"2012-10-14T00:00:00\", \"2012-10-21T00:00:00\", \"2012-10-28T00:00:00\", \"2012-11-04T00:00:00\", \"2012-11-11T00:00:00\", \"2012-11-18T00:00:00\", \"2012-11-25T00:00:00\", \"2012-12-02T00:00:00\", \"2012-12-09T00:00:00\", \"2012-12-16T00:00:00\", \"2012-12-23T00:00:00\", \"2012-12-30T00:00:00\", \"2013-01-06T00:00:00\", \"2013-01-13T00:00:00\", \"2013-01-20T00:00:00\", \"2013-01-27T00:00:00\", \"2013-02-03T00:00:00\", \"2013-02-10T00:00:00\", \"2013-02-17T00:00:00\", \"2013-02-24T00:00:00\", \"2013-03-03T00:00:00\", \"2013-03-10T00:00:00\", \"2013-03-17T00:00:00\", \"2013-03-24T00:00:00\", \"2013-03-31T00:00:00\", \"2013-04-07T00:00:00\", \"2013-04-14T00:00:00\", \"2013-04-21T00:00:00\", \"2013-04-28T00:00:00\", \"2013-05-05T00:00:00\", \"2013-05-12T00:00:00\", \"2013-05-19T00:00:00\", \"2013-05-26T00:00:00\"], \"y\": [67321.8591384728, 73349.1581608765, 82387.07968655475, 85821.96322440395, 80768.49568012933, 72213.24584720343, 67364.08045835387, 67596.8283629978, 73192.92333054004, 77747.19140940795, 78627.56330448878, 76505.53460427646, 75900.34854417115, 76240.0658879902, 74075.24626194479, 72232.2180874942, 67430.48392385563, 63147.739251948784, 63102.38687574885, 65312.25146369277, 65684.53185584559, 66239.0521080547, 69975.83607701067, 79113.35036509673, 94332.51770282834, 105995.49576611829, 112515.85583549841, 111742.54665965447, 110694.3329888148, 112029.97509062926, 120716.0504257831, 124749.16839460282, 118650.08094009355, 99857.23940833496, 82228.79746693184, 73206.12136808112, 75350.32074299347, 79691.42919621993, 81212.26461032772, 73220.66923783258, 63726.537575318245, 62410.773916700615, 70294.58073723693, 79971.88297362211, 84957.7784480897, 78595.59663209585, 69599.47084400624, 63555.95397078067, 63839.71472405573, 66205.45764395186, 67702.84645109142, 65534.50234330902, 68033.6354334204, 72570.17360150475, 81804.85521677013, 85165.45026565947, 82396.4787354551, 74380.57725004198, 67612.23384409919, 67681.88908836473, 71764.99832452416, 76464.46505037739, 78327.5999624539, 76228.55531673484, 76756.9445138965, 74377.33385636784, 75510.70292716363, 71570.73092388999, 68275.40565765432, 62891.28082102747, 63121.24622255399, 64407.23971233062, 66073.14673236686, 66422.50965686055]}],\n",
       "                        {\"template\": {\"data\": {\"bar\": [{\"error_x\": {\"color\": \"#2a3f5f\"}, \"error_y\": {\"color\": \"#2a3f5f\"}, \"marker\": {\"line\": {\"color\": \"#E5ECF6\", \"width\": 0.5}}, \"type\": \"bar\"}], \"barpolar\": [{\"marker\": {\"line\": {\"color\": \"#E5ECF6\", \"width\": 0.5}}, \"type\": \"barpolar\"}], \"carpet\": [{\"aaxis\": {\"endlinecolor\": \"#2a3f5f\", \"gridcolor\": \"white\", \"linecolor\": \"white\", \"minorgridcolor\": \"white\", \"startlinecolor\": \"#2a3f5f\"}, \"baxis\": {\"endlinecolor\": \"#2a3f5f\", \"gridcolor\": \"white\", \"linecolor\": \"white\", \"minorgridcolor\": \"white\", \"startlinecolor\": \"#2a3f5f\"}, \"type\": \"carpet\"}], \"choropleth\": [{\"colorbar\": {\"outlinewidth\": 0, \"ticks\": \"\"}, \"type\": \"choropleth\"}], \"contour\": [{\"colorbar\": {\"outlinewidth\": 0, \"ticks\": \"\"}, \"colorscale\": [[0.0, \"#0d0887\"], [0.1111111111111111, \"#46039f\"], [0.2222222222222222, \"#7201a8\"], [0.3333333333333333, \"#9c179e\"], [0.4444444444444444, \"#bd3786\"], [0.5555555555555556, \"#d8576b\"], [0.6666666666666666, \"#ed7953\"], [0.7777777777777778, \"#fb9f3a\"], [0.8888888888888888, \"#fdca26\"], [1.0, \"#f0f921\"]], \"type\": \"contour\"}], \"contourcarpet\": [{\"colorbar\": {\"outlinewidth\": 0, \"ticks\": \"\"}, \"type\": \"contourcarpet\"}], \"heatmap\": [{\"colorbar\": {\"outlinewidth\": 0, \"ticks\": \"\"}, \"colorscale\": [[0.0, \"#0d0887\"], [0.1111111111111111, \"#46039f\"], [0.2222222222222222, \"#7201a8\"], [0.3333333333333333, \"#9c179e\"], [0.4444444444444444, \"#bd3786\"], [0.5555555555555556, \"#d8576b\"], [0.6666666666666666, \"#ed7953\"], [0.7777777777777778, \"#fb9f3a\"], [0.8888888888888888, \"#fdca26\"], [1.0, \"#f0f921\"]], \"type\": \"heatmap\"}], \"heatmapgl\": [{\"colorbar\": {\"outlinewidth\": 0, \"ticks\": \"\"}, \"colorscale\": [[0.0, \"#0d0887\"], [0.1111111111111111, \"#46039f\"], [0.2222222222222222, \"#7201a8\"], [0.3333333333333333, \"#9c179e\"], [0.4444444444444444, \"#bd3786\"], [0.5555555555555556, \"#d8576b\"], [0.6666666666666666, \"#ed7953\"], [0.7777777777777778, \"#fb9f3a\"], [0.8888888888888888, \"#fdca26\"], [1.0, \"#f0f921\"]], \"type\": \"heatmapgl\"}], \"histogram\": [{\"marker\": {\"colorbar\": {\"outlinewidth\": 0, \"ticks\": \"\"}}, \"type\": \"histogram\"}], \"histogram2d\": [{\"colorbar\": {\"outlinewidth\": 0, \"ticks\": \"\"}, \"colorscale\": [[0.0, \"#0d0887\"], [0.1111111111111111, \"#46039f\"], [0.2222222222222222, \"#7201a8\"], [0.3333333333333333, \"#9c179e\"], [0.4444444444444444, \"#bd3786\"], [0.5555555555555556, \"#d8576b\"], [0.6666666666666666, \"#ed7953\"], [0.7777777777777778, \"#fb9f3a\"], [0.8888888888888888, \"#fdca26\"], [1.0, \"#f0f921\"]], \"type\": \"histogram2d\"}], \"histogram2dcontour\": [{\"colorbar\": {\"outlinewidth\": 0, \"ticks\": \"\"}, \"colorscale\": [[0.0, \"#0d0887\"], [0.1111111111111111, \"#46039f\"], [0.2222222222222222, \"#7201a8\"], [0.3333333333333333, \"#9c179e\"], [0.4444444444444444, \"#bd3786\"], [0.5555555555555556, \"#d8576b\"], [0.6666666666666666, \"#ed7953\"], [0.7777777777777778, \"#fb9f3a\"], [0.8888888888888888, \"#fdca26\"], [1.0, \"#f0f921\"]], \"type\": \"histogram2dcontour\"}], \"mesh3d\": [{\"colorbar\": {\"outlinewidth\": 0, \"ticks\": \"\"}, \"type\": \"mesh3d\"}], \"parcoords\": [{\"line\": {\"colorbar\": {\"outlinewidth\": 0, \"ticks\": \"\"}}, \"type\": \"parcoords\"}], \"scatter\": [{\"marker\": {\"colorbar\": {\"outlinewidth\": 0, \"ticks\": \"\"}}, \"type\": \"scatter\"}], \"scatter3d\": [{\"line\": {\"colorbar\": {\"outlinewidth\": 0, \"ticks\": \"\"}}, \"marker\": {\"colorbar\": {\"outlinewidth\": 0, \"ticks\": \"\"}}, \"type\": \"scatter3d\"}], \"scattercarpet\": [{\"marker\": {\"colorbar\": {\"outlinewidth\": 0, \"ticks\": \"\"}}, \"type\": \"scattercarpet\"}], \"scattergeo\": [{\"marker\": {\"colorbar\": {\"outlinewidth\": 0, \"ticks\": \"\"}}, \"type\": \"scattergeo\"}], \"scattergl\": [{\"marker\": {\"colorbar\": {\"outlinewidth\": 0, \"ticks\": \"\"}}, \"type\": \"scattergl\"}], \"scattermapbox\": [{\"marker\": {\"colorbar\": {\"outlinewidth\": 0, \"ticks\": \"\"}}, \"type\": \"scattermapbox\"}], \"scatterpolar\": [{\"marker\": {\"colorbar\": {\"outlinewidth\": 0, \"ticks\": \"\"}}, \"type\": \"scatterpolar\"}], \"scatterpolargl\": [{\"marker\": {\"colorbar\": {\"outlinewidth\": 0, \"ticks\": \"\"}}, \"type\": \"scatterpolargl\"}], \"scatterternary\": [{\"marker\": {\"colorbar\": {\"outlinewidth\": 0, \"ticks\": \"\"}}, \"type\": \"scatterternary\"}], \"surface\": [{\"colorbar\": {\"outlinewidth\": 0, \"ticks\": \"\"}, \"colorscale\": [[0.0, \"#0d0887\"], [0.1111111111111111, \"#46039f\"], [0.2222222222222222, \"#7201a8\"], [0.3333333333333333, \"#9c179e\"], [0.4444444444444444, \"#bd3786\"], [0.5555555555555556, \"#d8576b\"], [0.6666666666666666, \"#ed7953\"], [0.7777777777777778, \"#fb9f3a\"], [0.8888888888888888, \"#fdca26\"], [1.0, \"#f0f921\"]], \"type\": \"surface\"}], \"table\": [{\"cells\": {\"fill\": {\"color\": \"#EBF0F8\"}, \"line\": {\"color\": \"white\"}}, \"header\": {\"fill\": {\"color\": \"#C8D4E3\"}, \"line\": {\"color\": \"white\"}}, \"type\": \"table\"}]}, \"layout\": {\"annotationdefaults\": {\"arrowcolor\": \"#2a3f5f\", \"arrowhead\": 0, \"arrowwidth\": 1}, \"colorscale\": {\"diverging\": [[0, \"#8e0152\"], [0.1, \"#c51b7d\"], [0.2, \"#de77ae\"], [0.3, \"#f1b6da\"], [0.4, \"#fde0ef\"], [0.5, \"#f7f7f7\"], [0.6, \"#e6f5d0\"], [0.7, \"#b8e186\"], [0.8, \"#7fbc41\"], [0.9, \"#4d9221\"], [1, \"#276419\"]], \"sequential\": [[0.0, \"#0d0887\"], [0.1111111111111111, \"#46039f\"], [0.2222222222222222, \"#7201a8\"], [0.3333333333333333, \"#9c179e\"], [0.4444444444444444, \"#bd3786\"], [0.5555555555555556, \"#d8576b\"], [0.6666666666666666, \"#ed7953\"], [0.7777777777777778, \"#fb9f3a\"], [0.8888888888888888, \"#fdca26\"], [1.0, \"#f0f921\"]], \"sequentialminus\": [[0.0, \"#0d0887\"], [0.1111111111111111, \"#46039f\"], [0.2222222222222222, \"#7201a8\"], [0.3333333333333333, \"#9c179e\"], [0.4444444444444444, \"#bd3786\"], [0.5555555555555556, \"#d8576b\"], [0.6666666666666666, \"#ed7953\"], [0.7777777777777778, \"#fb9f3a\"], [0.8888888888888888, \"#fdca26\"], [1.0, \"#f0f921\"]]}, \"colorway\": [\"#636efa\", \"#EF553B\", \"#00cc96\", \"#ab63fa\", \"#FFA15A\", \"#19d3f3\", \"#FF6692\", \"#B6E880\", \"#FF97FF\", \"#FECB52\"], \"font\": {\"color\": \"#2a3f5f\"}, \"geo\": {\"bgcolor\": \"white\", \"lakecolor\": \"white\", \"landcolor\": \"#E5ECF6\", \"showlakes\": true, \"showland\": true, \"subunitcolor\": \"white\"}, \"hoverlabel\": {\"align\": \"left\"}, \"hovermode\": \"closest\", \"mapbox\": {\"style\": \"light\"}, \"paper_bgcolor\": \"white\", \"plot_bgcolor\": \"#E5ECF6\", \"polar\": {\"angularaxis\": {\"gridcolor\": \"white\", \"linecolor\": \"white\", \"ticks\": \"\"}, \"bgcolor\": \"#E5ECF6\", \"radialaxis\": {\"gridcolor\": \"white\", \"linecolor\": \"white\", \"ticks\": \"\"}}, \"scene\": {\"xaxis\": {\"backgroundcolor\": \"#E5ECF6\", \"gridcolor\": \"white\", \"gridwidth\": 2, \"linecolor\": \"white\", \"showbackground\": true, \"ticks\": \"\", \"zerolinecolor\": \"white\"}, \"yaxis\": {\"backgroundcolor\": \"#E5ECF6\", \"gridcolor\": \"white\", \"gridwidth\": 2, \"linecolor\": \"white\", \"showbackground\": true, \"ticks\": \"\", \"zerolinecolor\": \"white\"}, \"zaxis\": {\"backgroundcolor\": \"#E5ECF6\", \"gridcolor\": \"white\", \"gridwidth\": 2, \"linecolor\": \"white\", \"showbackground\": true, \"ticks\": \"\", \"zerolinecolor\": \"white\"}}, \"shapedefaults\": {\"line\": {\"color\": \"#2a3f5f\"}}, \"ternary\": {\"aaxis\": {\"gridcolor\": \"white\", \"linecolor\": \"white\", \"ticks\": \"\"}, \"baxis\": {\"gridcolor\": \"white\", \"linecolor\": \"white\", \"ticks\": \"\"}, \"bgcolor\": \"#E5ECF6\", \"caxis\": {\"gridcolor\": \"white\", \"linecolor\": \"white\", \"ticks\": \"\"}}, \"title\": {\"x\": 0.05}, \"xaxis\": {\"automargin\": true, \"gridcolor\": \"white\", \"linecolor\": \"white\", \"ticks\": \"\", \"zerolinecolor\": \"white\", \"zerolinewidth\": 2}, \"yaxis\": {\"automargin\": true, \"gridcolor\": \"white\", \"linecolor\": \"white\", \"ticks\": \"\", \"zerolinecolor\": \"white\", \"zerolinewidth\": 2}}}, \"title\": {\"text\": \"Actual & Forecasted Time-Series with Rangeslider\"}, \"xaxis\": {\"rangeslider\": {\"visible\": true}}},\n",
       "                        {\"responsive\": true}\n",
       "                    ).then(function(){\n",
       "                            \n",
       "var gd = document.getElementById('8aa7c066-db09-474e-93dd-84add62acd40');\n",
       "var x = new MutationObserver(function (mutations, observer) {{\n",
       "        var display = window.getComputedStyle(gd).display;\n",
       "        if (!display || display === 'none') {{\n",
       "            console.log([gd, 'removed!']);\n",
       "            Plotly.purge(gd);\n",
       "            observer.disconnect();\n",
       "        }}\n",
       "}});\n",
       "\n",
       "// Listen for the removal of the full notebook cells\n",
       "var notebookContainer = gd.closest('#notebook-container');\n",
       "if (notebookContainer) {{\n",
       "    x.observe(notebookContainer, {childList: true});\n",
       "}}\n",
       "\n",
       "// Listen for the clearing of the current output cell\n",
       "var outputEl = gd.closest('.output');\n",
       "if (outputEl) {{\n",
       "    x.observe(outputEl, {childList: true});\n",
       "}}\n",
       "\n",
       "                        })\n",
       "                };\n",
       "                });\n",
       "            </script>\n",
       "        </div>"
      ]
     },
     "metadata": {},
     "output_type": "display_data"
    }
   ],
   "source": [
    "fig = go.Figure()\n",
    "fig.add_trace(go.Scatter(x=sales_date_index.index, y=sales_date_index['units_sold'], name=\"units_sold\",\n",
    "                         line_color='deepskyblue'))\n",
    "\n",
    "fig.add_trace(go.Scatter(x=forecast.index, y=forecast['yhat'], name=\"predicted\",\n",
    "                         line_color='indianred'))\n",
    "\n",
    "fig.add_trace(go.Scatter(name='Upper Bound',x=sales_date_index.index, y=forecast['yhat_upper'],\n",
    "                         mode='lines', marker=dict(color=\"#444\"), line=dict(width=0), fillcolor='rgba(68, 68, 68, 0.3)',\n",
    "                         fill='tonexty'))\n",
    "\n",
    "fig.add_trace(go.Scatter(name='Lower Bound',x=sales_date_index.index, y=forecast['yhat_lower'],\n",
    "                         mode='lines', marker=dict(color=\"#444\"), line=dict(width=0), fillcolor='rgba(68, 68, 68, 0.3)',\n",
    "                         fill='tonexty'))\n",
    "\n",
    "fig.update_layout(title_text='Actual & Forecasted Time-Series with Rangeslider',\n",
    "                  xaxis_rangeslider_visible=True)\n",
    "fig.show()"
   ]
  },
  {
   "cell_type": "code",
   "execution_count": 22,
   "metadata": {},
   "outputs": [
    {
     "name": "stdout",
     "output_type": "stream",
     "text": [
      "[{'changepoint_prior_scale': 0.01, 'yearly_seasonality': 5}, {'changepoint_prior_scale': 0.01, 'yearly_seasonality': 10}, {'changepoint_prior_scale': 0.05, 'yearly_seasonality': 5}, {'changepoint_prior_scale': 0.05, 'yearly_seasonality': 10}, {'changepoint_prior_scale': 0.1, 'yearly_seasonality': 5}, {'changepoint_prior_scale': 0.1, 'yearly_seasonality': 10}]\n"
     ]
    }
   ],
   "source": [
    "# GRID SEARCH FOR BEST PARAMETERS\n",
    "from sklearn.model_selection import ParameterGrid\n",
    "params_grid = {'yearly_seasonality':[5,10],\n",
    "               'changepoint_prior_scale':[0.01,0.05, 0.1]}\n",
    "grid = ParameterGrid(params_grid)\n",
    "print([p for p in grid])"
   ]
  },
  {
   "cell_type": "code",
   "execution_count": 23,
   "metadata": {},
   "outputs": [
    {
     "name": "stdout",
     "output_type": "stream",
     "text": [
      "MAPE:  12.230122529576768 %  {'changepoint_prior_scale': 0.01, 'yearly_seasonality': 5}\n",
      "MAPE:  11.159261244673415 %  {'changepoint_prior_scale': 0.01, 'yearly_seasonality': 10}\n",
      "MAPE:  12.219194808484511 %  {'changepoint_prior_scale': 0.05, 'yearly_seasonality': 5}\n",
      "MAPE:  11.124771695593386 %  {'changepoint_prior_scale': 0.05, 'yearly_seasonality': 10}\n",
      "MAPE:  12.216267577900936 %  {'changepoint_prior_scale': 0.1, 'yearly_seasonality': 5}\n",
      "MAPE:  11.120724713835013 %  {'changepoint_prior_scale': 0.1, 'yearly_seasonality': 10}\n"
     ]
    }
   ],
   "source": [
    "for p in grid:\n",
    "    m =Prophet(**p)\n",
    "    m.fit(train)\n",
    "    future_dates = m.make_future_dataframe(periods=8, freq='W')\n",
    "    future_predict = m.predict(future_dates)\n",
    "    future_predict.set_index('ds', inplace=True)\n",
    "    # Calculate MAPE (Mean absolute percentage error)\n",
    "    temp = (test['units_sold'] - future_predict.loc['2013-04-07':,'yhat'])\n",
    "    print(\"MAPE: \",(temp.abs()/test['units_sold']).mean() * 100, \"% \", p)"
   ]
  },
  {
   "cell_type": "markdown",
   "metadata": {},
   "source": [
    "# Auto ARIMA"
   ]
  },
  {
   "cell_type": "code",
   "execution_count": 24,
   "metadata": {},
   "outputs": [
    {
     "name": "stdout",
     "output_type": "stream",
     "text": [
      "Collecting pyramid-arima\r\n",
      "\u001b[?25l  Downloading https://files.pythonhosted.org/packages/5c/84/57422f2a6ade3161c586545e38b518ba1b7ab30ee4a4acc29110c0aba2bc/pyramid_arima-0.9.0-cp36-cp36m-manylinux1_x86_64.whl (597kB)\r\n",
      "\u001b[K     |████████████████████████████████| 604kB 3.5MB/s \r\n",
      "\u001b[?25hRequirement already satisfied: Cython>=0.23 in /opt/conda/lib/python3.6/site-packages (from pyramid-arima) (0.29.13)\r\n",
      "Requirement already satisfied: numpy>=1.10 in /opt/conda/lib/python3.6/site-packages (from pyramid-arima) (1.16.4)\r\n",
      "Requirement already satisfied: scikit-learn>=0.17 in /opt/conda/lib/python3.6/site-packages (from pyramid-arima) (0.21.3)\r\n",
      "Requirement already satisfied: scipy>=0.9 in /opt/conda/lib/python3.6/site-packages (from pyramid-arima) (1.2.1)\r\n",
      "Requirement already satisfied: pandas>=0.19 in /opt/conda/lib/python3.6/site-packages (from pyramid-arima) (0.25.2)\r\n",
      "Requirement already satisfied: statsmodels>=0.9.0 in /opt/conda/lib/python3.6/site-packages (from pyramid-arima) (0.10.1)\r\n",
      "Requirement already satisfied: joblib>=0.11 in /opt/conda/lib/python3.6/site-packages (from scikit-learn>=0.17->pyramid-arima) (0.13.2)\r\n",
      "Requirement already satisfied: python-dateutil>=2.6.1 in /opt/conda/lib/python3.6/site-packages (from pandas>=0.19->pyramid-arima) (2.8.0)\r\n",
      "Requirement already satisfied: pytz>=2017.2 in /opt/conda/lib/python3.6/site-packages (from pandas>=0.19->pyramid-arima) (2019.3)\r\n",
      "Requirement already satisfied: patsy>=0.4.0 in /opt/conda/lib/python3.6/site-packages (from statsmodels>=0.9.0->pyramid-arima) (0.5.1)\r\n",
      "Requirement already satisfied: six>=1.5 in /opt/conda/lib/python3.6/site-packages (from python-dateutil>=2.6.1->pandas>=0.19->pyramid-arima) (1.12.0)\r\n",
      "Installing collected packages: pyramid-arima\r\n",
      "Successfully installed pyramid-arima-0.9.0\r\n"
     ]
    },
    {
     "name": "stderr",
     "output_type": "stream",
     "text": [
      "/opt/conda/lib/python3.6/site-packages/sklearn/externals/six.py:31: DeprecationWarning:\n",
      "\n",
      "The module is deprecated in version 0.21 and will be removed in version 0.23 since we've dropped support for Python 2.7. Please rely on the official version of six (https://pypi.org/project/six/).\n",
      "\n",
      "/opt/conda/lib/python3.6/site-packages/sklearn/externals/joblib/__init__.py:15: DeprecationWarning:\n",
      "\n",
      "sklearn.externals.joblib is deprecated in 0.21 and will be removed in 0.23. Please import this functionality directly from joblib, which can be installed with: pip install joblib. If this warning is raised when loading pickled models, you may need to re-serialize those models with scikit-learn 0.21+.\n",
      "\n"
     ]
    }
   ],
   "source": [
    "!pip install pyramid-arima\n",
    "from pyramid.arima import auto_arima"
   ]
  },
  {
   "cell_type": "code",
   "execution_count": 25,
   "metadata": {},
   "outputs": [
    {
     "name": "stdout",
     "output_type": "stream",
     "text": [
      "Fit ARIMA: order=(1, 0, 1) seasonal_order=(0, 0, 1, 52); AIC=nan, BIC=nan, Fit time=nan seconds\n",
      "Fit ARIMA: order=(0, 0, 0) seasonal_order=(0, 0, 0, 52); AIC=1655.683, BIC=1660.291, Fit time=0.062 seconds\n",
      "Fit ARIMA: order=(1, 0, 0) seasonal_order=(1, 0, 0, 52); AIC=1620.228, BIC=1629.444, Fit time=1.633 seconds\n",
      "Fit ARIMA: order=(0, 0, 1) seasonal_order=(0, 0, 1, 52); AIC=nan, BIC=nan, Fit time=nan seconds\n",
      "Fit ARIMA: order=(1, 0, 0) seasonal_order=(0, 0, 0, 52); AIC=1619.636, BIC=1626.549, Fit time=0.016 seconds\n",
      "Fit ARIMA: order=(1, 0, 0) seasonal_order=(0, 0, 1, 52); AIC=nan, BIC=nan, Fit time=nan seconds\n",
      "Fit ARIMA: order=(1, 0, 0) seasonal_order=(1, 0, 1, 52); AIC=nan, BIC=nan, Fit time=nan seconds\n",
      "Fit ARIMA: order=(2, 0, 0) seasonal_order=(0, 0, 0, 52); AIC=1619.751, BIC=1628.967, Fit time=0.035 seconds\n",
      "Fit ARIMA: order=(1, 0, 1) seasonal_order=(0, 0, 0, 52); AIC=1620.072, BIC=1629.288, Fit time=0.036 seconds\n",
      "Fit ARIMA: order=(2, 0, 1) seasonal_order=(0, 0, 0, 52); AIC=1621.800, BIC=1633.320, Fit time=0.059 seconds\n",
      "Total fit time: 1.904 seconds\n",
      "1619.6364519551169\n"
     ]
    }
   ],
   "source": [
    "stepwise_model = auto_arima(sales_date_index, start_p=1, start_q=1, max_p=5, max_q=5, \n",
    "                            m=52,start_P=0, seasonal=True,trace=True,error_action='ignore',\n",
    "                            suppress_warnings=True, stepwise=True, n_jobs=-1)\n",
    "print(stepwise_model.aic())"
   ]
  },
  {
   "cell_type": "code",
   "execution_count": 26,
   "metadata": {},
   "outputs": [],
   "source": [
    "arima_forecast = stepwise_model.predict(n_periods=8)"
   ]
  },
  {
   "cell_type": "code",
   "execution_count": 27,
   "metadata": {},
   "outputs": [
    {
     "data": {
      "text/html": [
       "<div>\n",
       "<style scoped>\n",
       "    .dataframe tbody tr th:only-of-type {\n",
       "        vertical-align: middle;\n",
       "    }\n",
       "\n",
       "    .dataframe tbody tr th {\n",
       "        vertical-align: top;\n",
       "    }\n",
       "\n",
       "    .dataframe thead th {\n",
       "        text-align: right;\n",
       "    }\n",
       "</style>\n",
       "<table border=\"1\" class=\"dataframe\">\n",
       "  <thead>\n",
       "    <tr style=\"text-align: right;\">\n",
       "      <th></th>\n",
       "      <th>Prediction</th>\n",
       "    </tr>\n",
       "    <tr>\n",
       "      <th>week_starting</th>\n",
       "      <th></th>\n",
       "    </tr>\n",
       "  </thead>\n",
       "  <tbody>\n",
       "    <tr>\n",
       "      <th>2013-04-07</th>\n",
       "      <td>95012.567944</td>\n",
       "    </tr>\n",
       "    <tr>\n",
       "      <th>2013-04-14</th>\n",
       "      <td>94382.989080</td>\n",
       "    </tr>\n",
       "    <tr>\n",
       "      <th>2013-04-21</th>\n",
       "      <td>93983.596956</td>\n",
       "    </tr>\n",
       "    <tr>\n",
       "      <th>2013-04-28</th>\n",
       "      <td>93730.230655</td>\n",
       "    </tr>\n",
       "    <tr>\n",
       "      <th>2013-05-05</th>\n",
       "      <td>93569.500187</td>\n",
       "    </tr>\n",
       "  </tbody>\n",
       "</table>\n",
       "</div>"
      ],
      "text/plain": [
       "                 Prediction\n",
       "week_starting              \n",
       "2013-04-07     95012.567944\n",
       "2013-04-14     94382.989080\n",
       "2013-04-21     93983.596956\n",
       "2013-04-28     93730.230655\n",
       "2013-05-05     93569.500187"
      ]
     },
     "execution_count": 27,
     "metadata": {},
     "output_type": "execute_result"
    }
   ],
   "source": [
    "arima_forecast = pd.DataFrame(arima_forecast,index = test.index,columns=['Prediction'])\n",
    "arima_forecast.head()"
   ]
  },
  {
   "cell_type": "code",
   "execution_count": 28,
   "metadata": {},
   "outputs": [
    {
     "name": "stdout",
     "output_type": "stream",
     "text": [
      "MAPE:  15.230339555692913 %\n"
     ]
    }
   ],
   "source": [
    "# Calculate MAPE (Mean absolute percentage error)\n",
    "temp = (test['units_sold'] - arima_forecast.loc['2013-04-07':,'Prediction'])\n",
    "print(\"MAPE: \",(temp.abs()/test['units_sold']).mean() * 100, \"%\")"
   ]
  },
  {
   "cell_type": "code",
   "execution_count": 29,
   "metadata": {},
   "outputs": [
    {
     "data": {
      "text/html": [
       "<div>\n",
       "<style scoped>\n",
       "    .dataframe tbody tr th:only-of-type {\n",
       "        vertical-align: middle;\n",
       "    }\n",
       "\n",
       "    .dataframe tbody tr th {\n",
       "        vertical-align: top;\n",
       "    }\n",
       "\n",
       "    .dataframe thead th {\n",
       "        text-align: right;\n",
       "    }\n",
       "</style>\n",
       "<table border=\"1\" class=\"dataframe\">\n",
       "  <thead>\n",
       "    <tr style=\"text-align: right;\">\n",
       "      <th></th>\n",
       "      <th>Prediction</th>\n",
       "    </tr>\n",
       "    <tr>\n",
       "      <th>week_starting</th>\n",
       "      <th></th>\n",
       "    </tr>\n",
       "  </thead>\n",
       "  <tbody>\n",
       "    <tr>\n",
       "      <th>2013-04-07</th>\n",
       "      <td>95012.567944</td>\n",
       "    </tr>\n",
       "    <tr>\n",
       "      <th>2013-04-14</th>\n",
       "      <td>94382.989080</td>\n",
       "    </tr>\n",
       "    <tr>\n",
       "      <th>2013-04-21</th>\n",
       "      <td>93983.596956</td>\n",
       "    </tr>\n",
       "    <tr>\n",
       "      <th>2013-04-28</th>\n",
       "      <td>93730.230655</td>\n",
       "    </tr>\n",
       "    <tr>\n",
       "      <th>2013-05-05</th>\n",
       "      <td>93569.500187</td>\n",
       "    </tr>\n",
       "    <tr>\n",
       "      <th>2013-05-12</th>\n",
       "      <td>93467.536023</td>\n",
       "    </tr>\n",
       "    <tr>\n",
       "      <th>2013-05-19</th>\n",
       "      <td>93402.852016</td>\n",
       "    </tr>\n",
       "    <tr>\n",
       "      <th>2013-05-26</th>\n",
       "      <td>93361.817787</td>\n",
       "    </tr>\n",
       "  </tbody>\n",
       "</table>\n",
       "</div>"
      ],
      "text/plain": [
       "                 Prediction\n",
       "week_starting              \n",
       "2013-04-07     95012.567944\n",
       "2013-04-14     94382.989080\n",
       "2013-04-21     93983.596956\n",
       "2013-04-28     93730.230655\n",
       "2013-05-05     93569.500187\n",
       "2013-05-12     93467.536023\n",
       "2013-05-19     93402.852016\n",
       "2013-05-26     93361.817787"
      ]
     },
     "execution_count": 29,
     "metadata": {},
     "output_type": "execute_result"
    }
   ],
   "source": [
    "arima_forecast"
   ]
  },
  {
   "cell_type": "code",
   "execution_count": 30,
   "metadata": {},
   "outputs": [
    {
     "data": {
      "text/html": [
       "<div>\n",
       "        \n",
       "        \n",
       "            <div id=\"4d99f48b-6a6b-43c3-8877-4caeff0079b0\" class=\"plotly-graph-div\" style=\"height:525px; width:100%;\"></div>\n",
       "            <script type=\"text/javascript\">\n",
       "                require([\"plotly\"], function(Plotly) {\n",
       "                    window.PLOTLYENV=window.PLOTLYENV || {};\n",
       "                    \n",
       "                if (document.getElementById(\"4d99f48b-6a6b-43c3-8877-4caeff0079b0\")) {\n",
       "                    Plotly.newPlot(\n",
       "                        '4d99f48b-6a6b-43c3-8877-4caeff0079b0',\n",
       "                        [{\"line\": {\"color\": \"deepskyblue\"}, \"name\": \"units_sold\", \"type\": \"scatter\", \"x\": [\"2012-01-01T00:00:00\", \"2012-01-08T00:00:00\", \"2012-01-15T00:00:00\", \"2012-01-22T00:00:00\", \"2012-01-29T00:00:00\", \"2012-02-05T00:00:00\", \"2012-02-12T00:00:00\", \"2012-02-19T00:00:00\", \"2012-02-26T00:00:00\", \"2012-03-04T00:00:00\", \"2012-03-11T00:00:00\", \"2012-03-18T00:00:00\", \"2012-03-25T00:00:00\", \"2012-04-01T00:00:00\", \"2012-04-08T00:00:00\", \"2012-04-15T00:00:00\", \"2012-04-22T00:00:00\", \"2012-04-29T00:00:00\", \"2012-05-06T00:00:00\", \"2012-05-13T00:00:00\", \"2012-05-20T00:00:00\", \"2012-05-27T00:00:00\", \"2012-06-03T00:00:00\", \"2012-06-10T00:00:00\", \"2012-06-17T00:00:00\", \"2012-06-24T00:00:00\", \"2012-07-01T00:00:00\", \"2012-07-08T00:00:00\", \"2012-07-15T00:00:00\", \"2012-07-22T00:00:00\", \"2012-07-29T00:00:00\", \"2012-08-05T00:00:00\", \"2012-08-12T00:00:00\", \"2012-08-19T00:00:00\", \"2012-08-26T00:00:00\", \"2012-09-02T00:00:00\", \"2012-09-09T00:00:00\", \"2012-09-16T00:00:00\", \"2012-09-23T00:00:00\", \"2012-09-30T00:00:00\", \"2012-10-07T00:00:00\", \"2012-10-14T00:00:00\", \"2012-10-21T00:00:00\", \"2012-10-28T00:00:00\", \"2012-11-04T00:00:00\", \"2012-11-11T00:00:00\", \"2012-11-18T00:00:00\", \"2012-11-25T00:00:00\", \"2012-12-02T00:00:00\", \"2012-12-09T00:00:00\", \"2012-12-16T00:00:00\", \"2012-12-23T00:00:00\", \"2012-12-30T00:00:00\", \"2013-01-06T00:00:00\", \"2013-01-13T00:00:00\", \"2013-01-20T00:00:00\", \"2013-01-27T00:00:00\", \"2013-02-03T00:00:00\", \"2013-02-10T00:00:00\", \"2013-02-17T00:00:00\", \"2013-02-24T00:00:00\", \"2013-03-03T00:00:00\", \"2013-03-10T00:00:00\", \"2013-03-17T00:00:00\", \"2013-03-24T00:00:00\", \"2013-03-31T00:00:00\", \"2013-04-07T00:00:00\", \"2013-04-14T00:00:00\", \"2013-04-21T00:00:00\", \"2013-04-28T00:00:00\", \"2013-05-05T00:00:00\", \"2013-05-12T00:00:00\", \"2013-05-19T00:00:00\", \"2013-05-26T00:00:00\"], \"y\": [85308, 65000, 94323, 120252, 82902, 80170, 89084, 84297, 97045, 92346, 95002, 98170, 97000, 95799, 83070, 90762, 96318, 65000, 82270, 80824, 83047, 80459, 86392, 99223, 105111, 120234, 136167, 124592, 124322, 126323, 140419, 133187, 142104, 110822, 100743, 82090, 98803, 99162, 89444, 89048, 81521, 87738, 81325, 83735, 115292, 89873, 81151, 81856, 83320, 65000, 97737, 80237, 81962, 96734, 99592, 115726, 80746, 95501, 89469, 85078, 82627, 83878, 93227, 89213, 94491, 82564, 92142, 91147, 65495, 65232, 88392, 80976, 89849, 96005]}, {\"line\": {\"color\": \"indianred\"}, \"name\": \"predicted\", \"type\": \"scatter\", \"x\": [\"2013-04-07T00:00:00\", \"2013-04-14T00:00:00\", \"2013-04-21T00:00:00\", \"2013-04-28T00:00:00\", \"2013-05-05T00:00:00\", \"2013-05-12T00:00:00\", \"2013-05-19T00:00:00\", \"2013-05-26T00:00:00\"], \"y\": [95012.56794394071, 94382.98907974393, 93983.59695630004, 93730.23065488753, 93569.5001874514, 93467.53602324244, 93402.85201560735, 93361.81778680552]}],\n",
       "                        {\"template\": {\"data\": {\"bar\": [{\"error_x\": {\"color\": \"#2a3f5f\"}, \"error_y\": {\"color\": \"#2a3f5f\"}, \"marker\": {\"line\": {\"color\": \"#E5ECF6\", \"width\": 0.5}}, \"type\": \"bar\"}], \"barpolar\": [{\"marker\": {\"line\": {\"color\": \"#E5ECF6\", \"width\": 0.5}}, \"type\": \"barpolar\"}], \"carpet\": [{\"aaxis\": {\"endlinecolor\": \"#2a3f5f\", \"gridcolor\": \"white\", \"linecolor\": \"white\", \"minorgridcolor\": \"white\", \"startlinecolor\": \"#2a3f5f\"}, \"baxis\": {\"endlinecolor\": \"#2a3f5f\", \"gridcolor\": \"white\", \"linecolor\": \"white\", \"minorgridcolor\": \"white\", \"startlinecolor\": \"#2a3f5f\"}, \"type\": \"carpet\"}], \"choropleth\": [{\"colorbar\": {\"outlinewidth\": 0, \"ticks\": \"\"}, \"type\": \"choropleth\"}], \"contour\": [{\"colorbar\": {\"outlinewidth\": 0, \"ticks\": \"\"}, \"colorscale\": [[0.0, \"#0d0887\"], [0.1111111111111111, \"#46039f\"], [0.2222222222222222, \"#7201a8\"], [0.3333333333333333, \"#9c179e\"], [0.4444444444444444, \"#bd3786\"], [0.5555555555555556, \"#d8576b\"], [0.6666666666666666, \"#ed7953\"], [0.7777777777777778, \"#fb9f3a\"], [0.8888888888888888, \"#fdca26\"], [1.0, \"#f0f921\"]], \"type\": \"contour\"}], \"contourcarpet\": [{\"colorbar\": {\"outlinewidth\": 0, \"ticks\": \"\"}, \"type\": \"contourcarpet\"}], \"heatmap\": [{\"colorbar\": {\"outlinewidth\": 0, \"ticks\": \"\"}, \"colorscale\": [[0.0, \"#0d0887\"], [0.1111111111111111, \"#46039f\"], [0.2222222222222222, \"#7201a8\"], [0.3333333333333333, \"#9c179e\"], [0.4444444444444444, \"#bd3786\"], [0.5555555555555556, \"#d8576b\"], [0.6666666666666666, \"#ed7953\"], [0.7777777777777778, \"#fb9f3a\"], [0.8888888888888888, \"#fdca26\"], [1.0, \"#f0f921\"]], \"type\": \"heatmap\"}], \"heatmapgl\": [{\"colorbar\": {\"outlinewidth\": 0, \"ticks\": \"\"}, \"colorscale\": [[0.0, \"#0d0887\"], [0.1111111111111111, \"#46039f\"], [0.2222222222222222, \"#7201a8\"], [0.3333333333333333, \"#9c179e\"], [0.4444444444444444, \"#bd3786\"], [0.5555555555555556, \"#d8576b\"], [0.6666666666666666, \"#ed7953\"], [0.7777777777777778, \"#fb9f3a\"], [0.8888888888888888, \"#fdca26\"], [1.0, \"#f0f921\"]], \"type\": \"heatmapgl\"}], \"histogram\": [{\"marker\": {\"colorbar\": {\"outlinewidth\": 0, \"ticks\": \"\"}}, \"type\": \"histogram\"}], \"histogram2d\": [{\"colorbar\": {\"outlinewidth\": 0, \"ticks\": \"\"}, \"colorscale\": [[0.0, \"#0d0887\"], [0.1111111111111111, \"#46039f\"], [0.2222222222222222, \"#7201a8\"], [0.3333333333333333, \"#9c179e\"], [0.4444444444444444, \"#bd3786\"], [0.5555555555555556, \"#d8576b\"], [0.6666666666666666, \"#ed7953\"], [0.7777777777777778, \"#fb9f3a\"], [0.8888888888888888, \"#fdca26\"], [1.0, \"#f0f921\"]], \"type\": \"histogram2d\"}], \"histogram2dcontour\": [{\"colorbar\": {\"outlinewidth\": 0, \"ticks\": \"\"}, \"colorscale\": [[0.0, \"#0d0887\"], [0.1111111111111111, \"#46039f\"], [0.2222222222222222, \"#7201a8\"], [0.3333333333333333, \"#9c179e\"], [0.4444444444444444, \"#bd3786\"], [0.5555555555555556, \"#d8576b\"], [0.6666666666666666, \"#ed7953\"], [0.7777777777777778, \"#fb9f3a\"], [0.8888888888888888, \"#fdca26\"], [1.0, \"#f0f921\"]], \"type\": \"histogram2dcontour\"}], \"mesh3d\": [{\"colorbar\": {\"outlinewidth\": 0, \"ticks\": \"\"}, \"type\": \"mesh3d\"}], \"parcoords\": [{\"line\": {\"colorbar\": {\"outlinewidth\": 0, \"ticks\": \"\"}}, \"type\": \"parcoords\"}], \"scatter\": [{\"marker\": {\"colorbar\": {\"outlinewidth\": 0, \"ticks\": \"\"}}, \"type\": \"scatter\"}], \"scatter3d\": [{\"line\": {\"colorbar\": {\"outlinewidth\": 0, \"ticks\": \"\"}}, \"marker\": {\"colorbar\": {\"outlinewidth\": 0, \"ticks\": \"\"}}, \"type\": \"scatter3d\"}], \"scattercarpet\": [{\"marker\": {\"colorbar\": {\"outlinewidth\": 0, \"ticks\": \"\"}}, \"type\": \"scattercarpet\"}], \"scattergeo\": [{\"marker\": {\"colorbar\": {\"outlinewidth\": 0, \"ticks\": \"\"}}, \"type\": \"scattergeo\"}], \"scattergl\": [{\"marker\": {\"colorbar\": {\"outlinewidth\": 0, \"ticks\": \"\"}}, \"type\": \"scattergl\"}], \"scattermapbox\": [{\"marker\": {\"colorbar\": {\"outlinewidth\": 0, \"ticks\": \"\"}}, \"type\": \"scattermapbox\"}], \"scatterpolar\": [{\"marker\": {\"colorbar\": {\"outlinewidth\": 0, \"ticks\": \"\"}}, \"type\": \"scatterpolar\"}], \"scatterpolargl\": [{\"marker\": {\"colorbar\": {\"outlinewidth\": 0, \"ticks\": \"\"}}, \"type\": \"scatterpolargl\"}], \"scatterternary\": [{\"marker\": {\"colorbar\": {\"outlinewidth\": 0, \"ticks\": \"\"}}, \"type\": \"scatterternary\"}], \"surface\": [{\"colorbar\": {\"outlinewidth\": 0, \"ticks\": \"\"}, \"colorscale\": [[0.0, \"#0d0887\"], [0.1111111111111111, \"#46039f\"], [0.2222222222222222, \"#7201a8\"], [0.3333333333333333, \"#9c179e\"], [0.4444444444444444, \"#bd3786\"], [0.5555555555555556, \"#d8576b\"], [0.6666666666666666, \"#ed7953\"], [0.7777777777777778, \"#fb9f3a\"], [0.8888888888888888, \"#fdca26\"], [1.0, \"#f0f921\"]], \"type\": \"surface\"}], \"table\": [{\"cells\": {\"fill\": {\"color\": \"#EBF0F8\"}, \"line\": {\"color\": \"white\"}}, \"header\": {\"fill\": {\"color\": \"#C8D4E3\"}, \"line\": {\"color\": \"white\"}}, \"type\": \"table\"}]}, \"layout\": {\"annotationdefaults\": {\"arrowcolor\": \"#2a3f5f\", \"arrowhead\": 0, \"arrowwidth\": 1}, \"colorscale\": {\"diverging\": [[0, \"#8e0152\"], [0.1, \"#c51b7d\"], [0.2, \"#de77ae\"], [0.3, \"#f1b6da\"], [0.4, \"#fde0ef\"], [0.5, \"#f7f7f7\"], [0.6, \"#e6f5d0\"], [0.7, \"#b8e186\"], [0.8, \"#7fbc41\"], [0.9, \"#4d9221\"], [1, \"#276419\"]], \"sequential\": [[0.0, \"#0d0887\"], [0.1111111111111111, \"#46039f\"], [0.2222222222222222, \"#7201a8\"], [0.3333333333333333, \"#9c179e\"], [0.4444444444444444, \"#bd3786\"], [0.5555555555555556, \"#d8576b\"], [0.6666666666666666, \"#ed7953\"], [0.7777777777777778, \"#fb9f3a\"], [0.8888888888888888, \"#fdca26\"], [1.0, \"#f0f921\"]], \"sequentialminus\": [[0.0, \"#0d0887\"], [0.1111111111111111, \"#46039f\"], [0.2222222222222222, \"#7201a8\"], [0.3333333333333333, \"#9c179e\"], [0.4444444444444444, \"#bd3786\"], [0.5555555555555556, \"#d8576b\"], [0.6666666666666666, \"#ed7953\"], [0.7777777777777778, \"#fb9f3a\"], [0.8888888888888888, \"#fdca26\"], [1.0, \"#f0f921\"]]}, \"colorway\": [\"#636efa\", \"#EF553B\", \"#00cc96\", \"#ab63fa\", \"#FFA15A\", \"#19d3f3\", \"#FF6692\", \"#B6E880\", \"#FF97FF\", \"#FECB52\"], \"font\": {\"color\": \"#2a3f5f\"}, \"geo\": {\"bgcolor\": \"white\", \"lakecolor\": \"white\", \"landcolor\": \"#E5ECF6\", \"showlakes\": true, \"showland\": true, \"subunitcolor\": \"white\"}, \"hoverlabel\": {\"align\": \"left\"}, \"hovermode\": \"closest\", \"mapbox\": {\"style\": \"light\"}, \"paper_bgcolor\": \"white\", \"plot_bgcolor\": \"#E5ECF6\", \"polar\": {\"angularaxis\": {\"gridcolor\": \"white\", \"linecolor\": \"white\", \"ticks\": \"\"}, \"bgcolor\": \"#E5ECF6\", \"radialaxis\": {\"gridcolor\": \"white\", \"linecolor\": \"white\", \"ticks\": \"\"}}, \"scene\": {\"xaxis\": {\"backgroundcolor\": \"#E5ECF6\", \"gridcolor\": \"white\", \"gridwidth\": 2, \"linecolor\": \"white\", \"showbackground\": true, \"ticks\": \"\", \"zerolinecolor\": \"white\"}, \"yaxis\": {\"backgroundcolor\": \"#E5ECF6\", \"gridcolor\": \"white\", \"gridwidth\": 2, \"linecolor\": \"white\", \"showbackground\": true, \"ticks\": \"\", \"zerolinecolor\": \"white\"}, \"zaxis\": {\"backgroundcolor\": \"#E5ECF6\", \"gridcolor\": \"white\", \"gridwidth\": 2, \"linecolor\": \"white\", \"showbackground\": true, \"ticks\": \"\", \"zerolinecolor\": \"white\"}}, \"shapedefaults\": {\"line\": {\"color\": \"#2a3f5f\"}}, \"ternary\": {\"aaxis\": {\"gridcolor\": \"white\", \"linecolor\": \"white\", \"ticks\": \"\"}, \"baxis\": {\"gridcolor\": \"white\", \"linecolor\": \"white\", \"ticks\": \"\"}, \"bgcolor\": \"#E5ECF6\", \"caxis\": {\"gridcolor\": \"white\", \"linecolor\": \"white\", \"ticks\": \"\"}}, \"title\": {\"x\": 0.05}, \"xaxis\": {\"automargin\": true, \"gridcolor\": \"white\", \"linecolor\": \"white\", \"ticks\": \"\", \"zerolinecolor\": \"white\", \"zerolinewidth\": 2}, \"yaxis\": {\"automargin\": true, \"gridcolor\": \"white\", \"linecolor\": \"white\", \"ticks\": \"\", \"zerolinecolor\": \"white\", \"zerolinewidth\": 2}}}, \"title\": {\"text\": \"Actual & Forecasted ARIMA\"}, \"xaxis\": {\"rangeslider\": {\"visible\": false}}},\n",
       "                        {\"responsive\": true}\n",
       "                    ).then(function(){\n",
       "                            \n",
       "var gd = document.getElementById('4d99f48b-6a6b-43c3-8877-4caeff0079b0');\n",
       "var x = new MutationObserver(function (mutations, observer) {{\n",
       "        var display = window.getComputedStyle(gd).display;\n",
       "        if (!display || display === 'none') {{\n",
       "            console.log([gd, 'removed!']);\n",
       "            Plotly.purge(gd);\n",
       "            observer.disconnect();\n",
       "        }}\n",
       "}});\n",
       "\n",
       "// Listen for the removal of the full notebook cells\n",
       "var notebookContainer = gd.closest('#notebook-container');\n",
       "if (notebookContainer) {{\n",
       "    x.observe(notebookContainer, {childList: true});\n",
       "}}\n",
       "\n",
       "// Listen for the clearing of the current output cell\n",
       "var outputEl = gd.closest('.output');\n",
       "if (outputEl) {{\n",
       "    x.observe(outputEl, {childList: true});\n",
       "}}\n",
       "\n",
       "                        })\n",
       "                };\n",
       "                });\n",
       "            </script>\n",
       "        </div>"
      ]
     },
     "metadata": {},
     "output_type": "display_data"
    }
   ],
   "source": [
    "fig = go.Figure()\n",
    "fig.add_trace(go.Scatter(x=sales_date_index.index, y=sales_date_index['units_sold'], name=\"units_sold\",\n",
    "                         line_color='deepskyblue'))\n",
    "\n",
    "fig.add_trace(go.Scatter(x=arima_forecast.index, y=arima_forecast['Prediction'], name=\"predicted\",\n",
    "                         line_color='indianred'))\n",
    "\n",
    "fig.update_layout(title_text='Actual & Forecasted ARIMA',\n",
    "                  xaxis_rangeslider_visible=False)\n",
    "fig.show()"
   ]
  },
  {
   "cell_type": "code",
   "execution_count": 31,
   "metadata": {},
   "outputs": [
    {
     "data": {
      "text/html": [
       "<div>\n",
       "        \n",
       "        \n",
       "            <div id=\"d2b1f73d-34fb-43b4-b92b-53a4eab07951\" class=\"plotly-graph-div\" style=\"height:525px; width:100%;\"></div>\n",
       "            <script type=\"text/javascript\">\n",
       "                require([\"plotly\"], function(Plotly) {\n",
       "                    window.PLOTLYENV=window.PLOTLYENV || {};\n",
       "                    \n",
       "                if (document.getElementById(\"d2b1f73d-34fb-43b4-b92b-53a4eab07951\")) {\n",
       "                    Plotly.newPlot(\n",
       "                        'd2b1f73d-34fb-43b4-b92b-53a4eab07951',\n",
       "                        [{\"line\": {\"color\": \"deepskyblue\"}, \"name\": \"units_sold\", \"type\": \"scatter\", \"x\": [\"2012-01-01T00:00:00\", \"2012-01-08T00:00:00\", \"2012-01-15T00:00:00\", \"2012-01-22T00:00:00\", \"2012-01-29T00:00:00\", \"2012-02-05T00:00:00\", \"2012-02-12T00:00:00\", \"2012-02-19T00:00:00\", \"2012-02-26T00:00:00\", \"2012-03-04T00:00:00\", \"2012-03-11T00:00:00\", \"2012-03-18T00:00:00\", \"2012-03-25T00:00:00\", \"2012-04-01T00:00:00\", \"2012-04-08T00:00:00\", \"2012-04-15T00:00:00\", \"2012-04-22T00:00:00\", \"2012-04-29T00:00:00\", \"2012-05-06T00:00:00\", \"2012-05-13T00:00:00\", \"2012-05-20T00:00:00\", \"2012-05-27T00:00:00\", \"2012-06-03T00:00:00\", \"2012-06-10T00:00:00\", \"2012-06-17T00:00:00\", \"2012-06-24T00:00:00\", \"2012-07-01T00:00:00\", \"2012-07-08T00:00:00\", \"2012-07-15T00:00:00\", \"2012-07-22T00:00:00\", \"2012-07-29T00:00:00\", \"2012-08-05T00:00:00\", \"2012-08-12T00:00:00\", \"2012-08-19T00:00:00\", \"2012-08-26T00:00:00\", \"2012-09-02T00:00:00\", \"2012-09-09T00:00:00\", \"2012-09-16T00:00:00\", \"2012-09-23T00:00:00\", \"2012-09-30T00:00:00\", \"2012-10-07T00:00:00\", \"2012-10-14T00:00:00\", \"2012-10-21T00:00:00\", \"2012-10-28T00:00:00\", \"2012-11-04T00:00:00\", \"2012-11-11T00:00:00\", \"2012-11-18T00:00:00\", \"2012-11-25T00:00:00\", \"2012-12-02T00:00:00\", \"2012-12-09T00:00:00\", \"2012-12-16T00:00:00\", \"2012-12-23T00:00:00\", \"2012-12-30T00:00:00\", \"2013-01-06T00:00:00\", \"2013-01-13T00:00:00\", \"2013-01-20T00:00:00\", \"2013-01-27T00:00:00\", \"2013-02-03T00:00:00\", \"2013-02-10T00:00:00\", \"2013-02-17T00:00:00\", \"2013-02-24T00:00:00\", \"2013-03-03T00:00:00\", \"2013-03-10T00:00:00\", \"2013-03-17T00:00:00\", \"2013-03-24T00:00:00\", \"2013-03-31T00:00:00\", \"2013-04-07T00:00:00\", \"2013-04-14T00:00:00\", \"2013-04-21T00:00:00\", \"2013-04-28T00:00:00\", \"2013-05-05T00:00:00\", \"2013-05-12T00:00:00\", \"2013-05-19T00:00:00\", \"2013-05-26T00:00:00\"], \"y\": [85308, 65000, 94323, 120252, 82902, 80170, 89084, 84297, 97045, 92346, 95002, 98170, 97000, 95799, 83070, 90762, 96318, 65000, 82270, 80824, 83047, 80459, 86392, 99223, 105111, 120234, 136167, 124592, 124322, 126323, 140419, 133187, 142104, 110822, 100743, 82090, 98803, 99162, 89444, 89048, 81521, 87738, 81325, 83735, 115292, 89873, 81151, 81856, 83320, 65000, 97737, 80237, 81962, 96734, 99592, 115726, 80746, 95501, 89469, 85078, 82627, 83878, 93227, 89213, 94491, 82564, 92142, 91147, 65495, 65232, 88392, 80976, 89849, 96005]}, {\"line\": {\"color\": \"indianred\"}, \"name\": \"predicted\", \"type\": \"scatter\", \"x\": [\"2013-04-07T00:00:00\", \"2013-04-14T00:00:00\", \"2013-04-21T00:00:00\", \"2013-04-28T00:00:00\", \"2013-05-05T00:00:00\", \"2013-05-12T00:00:00\", \"2013-05-19T00:00:00\", \"2013-05-26T00:00:00\"], \"y\": [91623.08688324524, 88874.26331918885, 83938.55166401877, 79711.39486094759, 78607.23102892257, 80055.01382752585, 81584.20186940969, 82392.5784079121]}],\n",
       "                        {\"template\": {\"data\": {\"bar\": [{\"error_x\": {\"color\": \"#2a3f5f\"}, \"error_y\": {\"color\": \"#2a3f5f\"}, \"marker\": {\"line\": {\"color\": \"#E5ECF6\", \"width\": 0.5}}, \"type\": \"bar\"}], \"barpolar\": [{\"marker\": {\"line\": {\"color\": \"#E5ECF6\", \"width\": 0.5}}, \"type\": \"barpolar\"}], \"carpet\": [{\"aaxis\": {\"endlinecolor\": \"#2a3f5f\", \"gridcolor\": \"white\", \"linecolor\": \"white\", \"minorgridcolor\": \"white\", \"startlinecolor\": \"#2a3f5f\"}, \"baxis\": {\"endlinecolor\": \"#2a3f5f\", \"gridcolor\": \"white\", \"linecolor\": \"white\", \"minorgridcolor\": \"white\", \"startlinecolor\": \"#2a3f5f\"}, \"type\": \"carpet\"}], \"choropleth\": [{\"colorbar\": {\"outlinewidth\": 0, \"ticks\": \"\"}, \"type\": \"choropleth\"}], \"contour\": [{\"colorbar\": {\"outlinewidth\": 0, \"ticks\": \"\"}, \"colorscale\": [[0.0, \"#0d0887\"], [0.1111111111111111, \"#46039f\"], [0.2222222222222222, \"#7201a8\"], [0.3333333333333333, \"#9c179e\"], [0.4444444444444444, \"#bd3786\"], [0.5555555555555556, \"#d8576b\"], [0.6666666666666666, \"#ed7953\"], [0.7777777777777778, \"#fb9f3a\"], [0.8888888888888888, \"#fdca26\"], [1.0, \"#f0f921\"]], \"type\": \"contour\"}], \"contourcarpet\": [{\"colorbar\": {\"outlinewidth\": 0, \"ticks\": \"\"}, \"type\": \"contourcarpet\"}], \"heatmap\": [{\"colorbar\": {\"outlinewidth\": 0, \"ticks\": \"\"}, \"colorscale\": [[0.0, \"#0d0887\"], [0.1111111111111111, \"#46039f\"], [0.2222222222222222, \"#7201a8\"], [0.3333333333333333, \"#9c179e\"], [0.4444444444444444, \"#bd3786\"], [0.5555555555555556, \"#d8576b\"], [0.6666666666666666, \"#ed7953\"], [0.7777777777777778, \"#fb9f3a\"], [0.8888888888888888, \"#fdca26\"], [1.0, \"#f0f921\"]], \"type\": \"heatmap\"}], \"heatmapgl\": [{\"colorbar\": {\"outlinewidth\": 0, \"ticks\": \"\"}, \"colorscale\": [[0.0, \"#0d0887\"], [0.1111111111111111, \"#46039f\"], [0.2222222222222222, \"#7201a8\"], [0.3333333333333333, \"#9c179e\"], [0.4444444444444444, \"#bd3786\"], [0.5555555555555556, \"#d8576b\"], [0.6666666666666666, \"#ed7953\"], [0.7777777777777778, \"#fb9f3a\"], [0.8888888888888888, \"#fdca26\"], [1.0, \"#f0f921\"]], \"type\": \"heatmapgl\"}], \"histogram\": [{\"marker\": {\"colorbar\": {\"outlinewidth\": 0, \"ticks\": \"\"}}, \"type\": \"histogram\"}], \"histogram2d\": [{\"colorbar\": {\"outlinewidth\": 0, \"ticks\": \"\"}, \"colorscale\": [[0.0, \"#0d0887\"], [0.1111111111111111, \"#46039f\"], [0.2222222222222222, \"#7201a8\"], [0.3333333333333333, \"#9c179e\"], [0.4444444444444444, \"#bd3786\"], [0.5555555555555556, \"#d8576b\"], [0.6666666666666666, \"#ed7953\"], [0.7777777777777778, \"#fb9f3a\"], [0.8888888888888888, \"#fdca26\"], [1.0, \"#f0f921\"]], \"type\": \"histogram2d\"}], \"histogram2dcontour\": [{\"colorbar\": {\"outlinewidth\": 0, \"ticks\": \"\"}, \"colorscale\": [[0.0, \"#0d0887\"], [0.1111111111111111, \"#46039f\"], [0.2222222222222222, \"#7201a8\"], [0.3333333333333333, \"#9c179e\"], [0.4444444444444444, \"#bd3786\"], [0.5555555555555556, \"#d8576b\"], [0.6666666666666666, \"#ed7953\"], [0.7777777777777778, \"#fb9f3a\"], [0.8888888888888888, \"#fdca26\"], [1.0, \"#f0f921\"]], \"type\": \"histogram2dcontour\"}], \"mesh3d\": [{\"colorbar\": {\"outlinewidth\": 0, \"ticks\": \"\"}, \"type\": \"mesh3d\"}], \"parcoords\": [{\"line\": {\"colorbar\": {\"outlinewidth\": 0, \"ticks\": \"\"}}, \"type\": \"parcoords\"}], \"scatter\": [{\"marker\": {\"colorbar\": {\"outlinewidth\": 0, \"ticks\": \"\"}}, \"type\": \"scatter\"}], \"scatter3d\": [{\"line\": {\"colorbar\": {\"outlinewidth\": 0, \"ticks\": \"\"}}, \"marker\": {\"colorbar\": {\"outlinewidth\": 0, \"ticks\": \"\"}}, \"type\": \"scatter3d\"}], \"scattercarpet\": [{\"marker\": {\"colorbar\": {\"outlinewidth\": 0, \"ticks\": \"\"}}, \"type\": \"scattercarpet\"}], \"scattergeo\": [{\"marker\": {\"colorbar\": {\"outlinewidth\": 0, \"ticks\": \"\"}}, \"type\": \"scattergeo\"}], \"scattergl\": [{\"marker\": {\"colorbar\": {\"outlinewidth\": 0, \"ticks\": \"\"}}, \"type\": \"scattergl\"}], \"scattermapbox\": [{\"marker\": {\"colorbar\": {\"outlinewidth\": 0, \"ticks\": \"\"}}, \"type\": \"scattermapbox\"}], \"scatterpolar\": [{\"marker\": {\"colorbar\": {\"outlinewidth\": 0, \"ticks\": \"\"}}, \"type\": \"scatterpolar\"}], \"scatterpolargl\": [{\"marker\": {\"colorbar\": {\"outlinewidth\": 0, \"ticks\": \"\"}}, \"type\": \"scatterpolargl\"}], \"scatterternary\": [{\"marker\": {\"colorbar\": {\"outlinewidth\": 0, \"ticks\": \"\"}}, \"type\": \"scatterternary\"}], \"surface\": [{\"colorbar\": {\"outlinewidth\": 0, \"ticks\": \"\"}, \"colorscale\": [[0.0, \"#0d0887\"], [0.1111111111111111, \"#46039f\"], [0.2222222222222222, \"#7201a8\"], [0.3333333333333333, \"#9c179e\"], [0.4444444444444444, \"#bd3786\"], [0.5555555555555556, \"#d8576b\"], [0.6666666666666666, \"#ed7953\"], [0.7777777777777778, \"#fb9f3a\"], [0.8888888888888888, \"#fdca26\"], [1.0, \"#f0f921\"]], \"type\": \"surface\"}], \"table\": [{\"cells\": {\"fill\": {\"color\": \"#EBF0F8\"}, \"line\": {\"color\": \"white\"}}, \"header\": {\"fill\": {\"color\": \"#C8D4E3\"}, \"line\": {\"color\": \"white\"}}, \"type\": \"table\"}]}, \"layout\": {\"annotationdefaults\": {\"arrowcolor\": \"#2a3f5f\", \"arrowhead\": 0, \"arrowwidth\": 1}, \"colorscale\": {\"diverging\": [[0, \"#8e0152\"], [0.1, \"#c51b7d\"], [0.2, \"#de77ae\"], [0.3, \"#f1b6da\"], [0.4, \"#fde0ef\"], [0.5, \"#f7f7f7\"], [0.6, \"#e6f5d0\"], [0.7, \"#b8e186\"], [0.8, \"#7fbc41\"], [0.9, \"#4d9221\"], [1, \"#276419\"]], \"sequential\": [[0.0, \"#0d0887\"], [0.1111111111111111, \"#46039f\"], [0.2222222222222222, \"#7201a8\"], [0.3333333333333333, \"#9c179e\"], [0.4444444444444444, \"#bd3786\"], [0.5555555555555556, \"#d8576b\"], [0.6666666666666666, \"#ed7953\"], [0.7777777777777778, \"#fb9f3a\"], [0.8888888888888888, \"#fdca26\"], [1.0, \"#f0f921\"]], \"sequentialminus\": [[0.0, \"#0d0887\"], [0.1111111111111111, \"#46039f\"], [0.2222222222222222, \"#7201a8\"], [0.3333333333333333, \"#9c179e\"], [0.4444444444444444, \"#bd3786\"], [0.5555555555555556, \"#d8576b\"], [0.6666666666666666, \"#ed7953\"], [0.7777777777777778, \"#fb9f3a\"], [0.8888888888888888, \"#fdca26\"], [1.0, \"#f0f921\"]]}, \"colorway\": [\"#636efa\", \"#EF553B\", \"#00cc96\", \"#ab63fa\", \"#FFA15A\", \"#19d3f3\", \"#FF6692\", \"#B6E880\", \"#FF97FF\", \"#FECB52\"], \"font\": {\"color\": \"#2a3f5f\"}, \"geo\": {\"bgcolor\": \"white\", \"lakecolor\": \"white\", \"landcolor\": \"#E5ECF6\", \"showlakes\": true, \"showland\": true, \"subunitcolor\": \"white\"}, \"hoverlabel\": {\"align\": \"left\"}, \"hovermode\": \"closest\", \"mapbox\": {\"style\": \"light\"}, \"paper_bgcolor\": \"white\", \"plot_bgcolor\": \"#E5ECF6\", \"polar\": {\"angularaxis\": {\"gridcolor\": \"white\", \"linecolor\": \"white\", \"ticks\": \"\"}, \"bgcolor\": \"#E5ECF6\", \"radialaxis\": {\"gridcolor\": \"white\", \"linecolor\": \"white\", \"ticks\": \"\"}}, \"scene\": {\"xaxis\": {\"backgroundcolor\": \"#E5ECF6\", \"gridcolor\": \"white\", \"gridwidth\": 2, \"linecolor\": \"white\", \"showbackground\": true, \"ticks\": \"\", \"zerolinecolor\": \"white\"}, \"yaxis\": {\"backgroundcolor\": \"#E5ECF6\", \"gridcolor\": \"white\", \"gridwidth\": 2, \"linecolor\": \"white\", \"showbackground\": true, \"ticks\": \"\", \"zerolinecolor\": \"white\"}, \"zaxis\": {\"backgroundcolor\": \"#E5ECF6\", \"gridcolor\": \"white\", \"gridwidth\": 2, \"linecolor\": \"white\", \"showbackground\": true, \"ticks\": \"\", \"zerolinecolor\": \"white\"}}, \"shapedefaults\": {\"line\": {\"color\": \"#2a3f5f\"}}, \"ternary\": {\"aaxis\": {\"gridcolor\": \"white\", \"linecolor\": \"white\", \"ticks\": \"\"}, \"baxis\": {\"gridcolor\": \"white\", \"linecolor\": \"white\", \"ticks\": \"\"}, \"bgcolor\": \"#E5ECF6\", \"caxis\": {\"gridcolor\": \"white\", \"linecolor\": \"white\", \"ticks\": \"\"}}, \"title\": {\"x\": 0.05}, \"xaxis\": {\"automargin\": true, \"gridcolor\": \"white\", \"linecolor\": \"white\", \"ticks\": \"\", \"zerolinecolor\": \"white\", \"zerolinewidth\": 2}, \"yaxis\": {\"automargin\": true, \"gridcolor\": \"white\", \"linecolor\": \"white\", \"ticks\": \"\", \"zerolinecolor\": \"white\", \"zerolinewidth\": 2}}}, \"title\": {\"text\": \"Actual & Forecasted Prophet\"}, \"xaxis\": {\"rangeslider\": {\"visible\": false}}},\n",
       "                        {\"responsive\": true}\n",
       "                    ).then(function(){\n",
       "                            \n",
       "var gd = document.getElementById('d2b1f73d-34fb-43b4-b92b-53a4eab07951');\n",
       "var x = new MutationObserver(function (mutations, observer) {{\n",
       "        var display = window.getComputedStyle(gd).display;\n",
       "        if (!display || display === 'none') {{\n",
       "            console.log([gd, 'removed!']);\n",
       "            Plotly.purge(gd);\n",
       "            observer.disconnect();\n",
       "        }}\n",
       "}});\n",
       "\n",
       "// Listen for the removal of the full notebook cells\n",
       "var notebookContainer = gd.closest('#notebook-container');\n",
       "if (notebookContainer) {{\n",
       "    x.observe(notebookContainer, {childList: true});\n",
       "}}\n",
       "\n",
       "// Listen for the clearing of the current output cell\n",
       "var outputEl = gd.closest('.output');\n",
       "if (outputEl) {{\n",
       "    x.observe(outputEl, {childList: true});\n",
       "}}\n",
       "\n",
       "                        })\n",
       "                };\n",
       "                });\n",
       "            </script>\n",
       "        </div>"
      ]
     },
     "metadata": {},
     "output_type": "display_data"
    }
   ],
   "source": [
    "fig = go.Figure()\n",
    "fig.add_trace(go.Scatter(x=sales_date_index.index, y=sales_date_index['units_sold'], name=\"units_sold\",\n",
    "                         line_color='deepskyblue'))\n",
    "\n",
    "fig.add_trace(go.Scatter(x=forecast.loc['2013-04-07':,'yhat'].index, y=forecast.loc['2013-04-07':,'yhat'], name=\"predicted\",\n",
    "                         line_color='indianred'))\n",
    "\n",
    "fig.update_layout(title_text='Actual & Forecasted Prophet',\n",
    "                  xaxis_rangeslider_visible=False)\n",
    "fig.show()"
   ]
  },
  {
   "cell_type": "markdown",
   "metadata": {},
   "source": [
    "#### CREATING A DAILY BUY-PLAN FOR THE COMPANY\n",
    "#### Data and assumptions\n",
    "Lead time of ordering from a supplier is fixed = 7 days\n",
    "Shelf life of the product is fixed = 7 days from the day they are received\n",
    "Beginning inventory at the start of the month = 140000\n",
    "You can start with a simple fixed order quantity system\n",
    "Minimum order quantity = 20000\n",
    "selling price = 150 --> lost sales cost = 150 x unmet demand\n",
    "Inventory holding cost = 16 x units at the end of the day\n",
    "Waste processing cost = 44 x number of units expired\n",
    "procurement cost = 100 x units purchased\n",
    "\n",
    "OR\n",
    "#### Simply minimize inventory levels such that demand is always met. Ignore the costs\n",
    "Beginning inventory at the start of the month = 140000 Shelf life = 7 days\n",
    "Lead time = 7 days\n",
    "You can start with a simple fixed order quantity system\n",
    "\n",
    "#### CREATING A DAILY BUY-PLAN FOR THE COMPANY\n",
    "#### Data and assumptions\n",
    "Lead time of ordering from a supplier is fixed = 7 days\n",
    "Shelf life of the product is fixed = 7 days from the day they are received\n",
    "Beginning inventory at the start of the month = 140000\n",
    "You can start with a simple fixed order quantity system\n",
    "Minimum order quantity = 20000\n",
    "selling price = 150 --> lost sales cost = 150 x unmet demand\n",
    "Inventory holding cost = 16 x units at the end of the day\n",
    "Waste processing cost = 44 x number of units expired\n",
    "procurement cost = 100 x units purchased\n",
    "\n",
    "OR\n",
    "#### Simply minimize inventory levels such that demand is always met. Ignore the costs\n",
    "Beginning inventory at the start of the month = 140000 Shelf life = 7 days\n",
    "Lead time = 7 days\n",
    "You can start with a simple fixed order quantity system\n",
    "\n",
    "#### CREATING A DAILY BUY-PLAN FOR THE COMPANY\n",
    "Data and assumptions\n",
    "Lead time of ordering from a supplier is fixed = 7 days\n",
    "Shelf life of the product is fixed = 7 days from the day they are received\n",
    "Beginning inventory at the start of the month = 140000\n",
    "You can start with a simple fixed order quantity system\n",
    "Minimum order quantity = 20000\n",
    "selling price = 150 --> lost sales cost = 150 x unmet demand\n",
    "Inventory holding cost = 16 x units at the end of the day\n",
    "Waste processing cost = 44 x number of units expired\n",
    "procurement cost = 100 x units purchased\n",
    "\n",
    "OR\n",
    "#### Simply minimize inventory levels such that demand is always met. Ignore the costs\n",
    "Beginning inventory at the start of the month = 140000 Shelf life = 7 days\n",
    "Lead time = 7 days\n",
    "You can start with a simple fixed order quantity system\n",
    "\n",
    "#### CREATING A DAILY BUY-PLAN FOR THE COMPANY\n",
    "#### Data and assumptions\n",
    "Lead time of ordering from a supplier is fixed = 7 days\n",
    "Shelf life of the product is fixed = 7 days from the day they are received\n",
    "Beginning inventory at the start of the month = 140000\n",
    "You can start with a simple fixed order quantity system\n",
    "Minimum order quantity = 40000\n",
    "selling price = 150 --> lost sales cost = 150 x unmet demand\n",
    "Inventory holding cost = 16 x units at the end of the day\n",
    "Waste processing cost = 44 x number of units expired\n",
    "procurement cost = 100 x units purchased\n",
    "\n",
    "OR\n",
    "#### Simply minimize inventory levels such that demand is always met. Ignore the costs\n",
    "Beginning inventory at the start of the month = 140000 Shelf life = 7 days\n",
    "Lead time = 7 days\n",
    "You can start with a simple fixed order quantity system\n",
    "Minimum order quantity = 40000"
   ]
  },
  {
   "cell_type": "code",
   "execution_count": 34,
   "metadata": {},
   "outputs": [
    {
     "data": {
      "text/html": [
       "<div>\n",
       "<style scoped>\n",
       "    .dataframe tbody tr th:only-of-type {\n",
       "        vertical-align: middle;\n",
       "    }\n",
       "\n",
       "    .dataframe tbody tr th {\n",
       "        vertical-align: top;\n",
       "    }\n",
       "\n",
       "    .dataframe thead th {\n",
       "        text-align: right;\n",
       "    }\n",
       "</style>\n",
       "<table border=\"1\" class=\"dataframe\">\n",
       "  <thead>\n",
       "    <tr style=\"text-align: right;\">\n",
       "      <th></th>\n",
       "      <th>yhat</th>\n",
       "      <th>std_dev</th>\n",
       "    </tr>\n",
       "  </thead>\n",
       "  <tbody>\n",
       "    <tr>\n",
       "      <th>0</th>\n",
       "      <td>13089.012412</td>\n",
       "      <td>1098.221135</td>\n",
       "    </tr>\n",
       "    <tr>\n",
       "      <th>1</th>\n",
       "      <td>13089.012412</td>\n",
       "      <td>1098.221135</td>\n",
       "    </tr>\n",
       "    <tr>\n",
       "      <th>2</th>\n",
       "      <td>13089.012412</td>\n",
       "      <td>1098.221135</td>\n",
       "    </tr>\n",
       "    <tr>\n",
       "      <th>3</th>\n",
       "      <td>13089.012412</td>\n",
       "      <td>1098.221135</td>\n",
       "    </tr>\n",
       "    <tr>\n",
       "      <th>4</th>\n",
       "      <td>13089.012412</td>\n",
       "      <td>1098.221135</td>\n",
       "    </tr>\n",
       "    <tr>\n",
       "      <th>5</th>\n",
       "      <td>13089.012412</td>\n",
       "      <td>1098.221135</td>\n",
       "    </tr>\n",
       "    <tr>\n",
       "      <th>6</th>\n",
       "      <td>13089.012412</td>\n",
       "      <td>1098.221135</td>\n",
       "    </tr>\n",
       "    <tr>\n",
       "      <th>7</th>\n",
       "      <td>12696.323331</td>\n",
       "      <td>1046.992996</td>\n",
       "    </tr>\n",
       "    <tr>\n",
       "      <th>8</th>\n",
       "      <td>12696.323331</td>\n",
       "      <td>1046.992996</td>\n",
       "    </tr>\n",
       "    <tr>\n",
       "      <th>9</th>\n",
       "      <td>12696.323331</td>\n",
       "      <td>1046.992996</td>\n",
       "    </tr>\n",
       "  </tbody>\n",
       "</table>\n",
       "</div>"
      ],
      "text/plain": [
       "           yhat      std_dev\n",
       "0  13089.012412  1098.221135\n",
       "1  13089.012412  1098.221135\n",
       "2  13089.012412  1098.221135\n",
       "3  13089.012412  1098.221135\n",
       "4  13089.012412  1098.221135\n",
       "5  13089.012412  1098.221135\n",
       "6  13089.012412  1098.221135\n",
       "7  12696.323331  1046.992996\n",
       "8  12696.323331  1046.992996\n",
       "9  12696.323331  1046.992996"
      ]
     },
     "execution_count": 34,
     "metadata": {},
     "output_type": "execute_result"
    }
   ],
   "source": [
    "# daily demand with std dev for the next 2 months\n",
    "temp = forecast[-8:][['yhat','yhat_lower','yhat_upper']]\n",
    "temp['std_dev'] = (temp['yhat_upper'] - temp['yhat'])/2\n",
    "temp.drop(columns=['yhat_lower','yhat_upper'], inplace=True)\n",
    "temp['yhat'] = temp['yhat']/7\n",
    "temp['std_dev'] = temp['std_dev']/7\n",
    "temp = temp.loc[temp.index.repeat(7)]\n",
    "temp = temp.reset_index(drop=True)\n",
    "temp.head(10)"
   ]
  },
  {
   "cell_type": "code",
   "execution_count": 35,
   "metadata": {},
   "outputs": [],
   "source": [
    "# generate demand from mean and std deviation\n",
    "from scipy.stats import norm\n",
    "def generate_demand(mean, std_dev):\n",
    "    return norm.rvs(loc=mean, scale=std_dev, size=1, random_state=None)[0]"
   ]
  },
  {
   "cell_type": "code",
   "execution_count": 36,
   "metadata": {},
   "outputs": [
    {
     "data": {
      "text/html": [
       "<div>\n",
       "<style scoped>\n",
       "    .dataframe tbody tr th:only-of-type {\n",
       "        vertical-align: middle;\n",
       "    }\n",
       "\n",
       "    .dataframe tbody tr th {\n",
       "        vertical-align: top;\n",
       "    }\n",
       "\n",
       "    .dataframe thead th {\n",
       "        text-align: right;\n",
       "    }\n",
       "</style>\n",
       "<table border=\"1\" class=\"dataframe\">\n",
       "  <thead>\n",
       "    <tr style=\"text-align: right;\">\n",
       "      <th></th>\n",
       "      <th>yhat</th>\n",
       "      <th>std_dev</th>\n",
       "      <th>demand</th>\n",
       "    </tr>\n",
       "  </thead>\n",
       "  <tbody>\n",
       "    <tr>\n",
       "      <th>0</th>\n",
       "      <td>13089.012412</td>\n",
       "      <td>1098.221135</td>\n",
       "      <td>12961.156021</td>\n",
       "    </tr>\n",
       "    <tr>\n",
       "      <th>1</th>\n",
       "      <td>13089.012412</td>\n",
       "      <td>1098.221135</td>\n",
       "      <td>13207.675052</td>\n",
       "    </tr>\n",
       "    <tr>\n",
       "      <th>2</th>\n",
       "      <td>13089.012412</td>\n",
       "      <td>1098.221135</td>\n",
       "      <td>13995.005895</td>\n",
       "    </tr>\n",
       "    <tr>\n",
       "      <th>3</th>\n",
       "      <td>13089.012412</td>\n",
       "      <td>1098.221135</td>\n",
       "      <td>16534.960946</td>\n",
       "    </tr>\n",
       "    <tr>\n",
       "      <th>4</th>\n",
       "      <td>13089.012412</td>\n",
       "      <td>1098.221135</td>\n",
       "      <td>11744.943887</td>\n",
       "    </tr>\n",
       "    <tr>\n",
       "      <th>5</th>\n",
       "      <td>13089.012412</td>\n",
       "      <td>1098.221135</td>\n",
       "      <td>12972.366258</td>\n",
       "    </tr>\n",
       "    <tr>\n",
       "      <th>6</th>\n",
       "      <td>13089.012412</td>\n",
       "      <td>1098.221135</td>\n",
       "      <td>13181.913921</td>\n",
       "    </tr>\n",
       "    <tr>\n",
       "      <th>7</th>\n",
       "      <td>12696.323331</td>\n",
       "      <td>1046.992996</td>\n",
       "      <td>13292.656856</td>\n",
       "    </tr>\n",
       "    <tr>\n",
       "      <th>8</th>\n",
       "      <td>12696.323331</td>\n",
       "      <td>1046.992996</td>\n",
       "      <td>10713.678916</td>\n",
       "    </tr>\n",
       "    <tr>\n",
       "      <th>9</th>\n",
       "      <td>12696.323331</td>\n",
       "      <td>1046.992996</td>\n",
       "      <td>13408.224294</td>\n",
       "    </tr>\n",
       "  </tbody>\n",
       "</table>\n",
       "</div>"
      ],
      "text/plain": [
       "           yhat      std_dev        demand\n",
       "0  13089.012412  1098.221135  12961.156021\n",
       "1  13089.012412  1098.221135  13207.675052\n",
       "2  13089.012412  1098.221135  13995.005895\n",
       "3  13089.012412  1098.221135  16534.960946\n",
       "4  13089.012412  1098.221135  11744.943887\n",
       "5  13089.012412  1098.221135  12972.366258\n",
       "6  13089.012412  1098.221135  13181.913921\n",
       "7  12696.323331  1046.992996  13292.656856\n",
       "8  12696.323331  1046.992996  10713.678916\n",
       "9  12696.323331  1046.992996  13408.224294"
      ]
     },
     "execution_count": 36,
     "metadata": {},
     "output_type": "execute_result"
    }
   ],
   "source": [
    "# simulating daily demand mean and std dev\n",
    "temp['demand'] = temp.apply(lambda x: generate_demand(x['yhat'],x['std_dev']), axis=1)\n",
    "daily_demand = temp\n",
    "daily_demand.head(10)"
   ]
  },
  {
   "cell_type": "code",
   "execution_count": 37,
   "metadata": {},
   "outputs": [],
   "source": [
    "beginning_inventory = 140000\n",
    "# define cost/ penalty:\n",
    "p2 = 1 # unmet demand: penalty = 1\n",
    "p1 = 1 # expired product: penalty = 1\n",
    "\n",
    "def simulation_one_run(order_qty = 40000, min_qty = 20000): # parameters fixed order qty and min inventory levels\n",
    "    \n",
    "    delivery_date = -1 # date when order is supposed to be delivered\n",
    "    expired = []\n",
    "    unmet_demand = []\n",
    "    pending_order = False\n",
    "    \n",
    "    # create inventory dataframe with beginning inventory = 140000. Columns represent how old the inventory is\n",
    "    inventory = pd.DataFrame(index= np.arange(56), columns=np.arange(7))\n",
    "    inventory.fillna(0, inplace=True)\n",
    "    inventory.iloc[0,0] = beginning_inventory\n",
    "    \n",
    "    for index, row in inventory.iterrows():\n",
    "        demand = daily_demand.loc[index,'demand'] # get demand for the day\n",
    "\n",
    "        if delivery_date == index: # receive order\n",
    "            row[0] += order_qty # parameter 2\n",
    "            pending_order = False\n",
    "\n",
    "        for i in range(len(row)-1,-1,-1): # iterate from 6 to 0. oldest inventory gets consumed first\n",
    "            if demand >= row[i]:\n",
    "                demand -= row[i]\n",
    "                row[i] = 0\n",
    "            else:\n",
    "                row[i] -= demand\n",
    "                demand = 0\n",
    "\n",
    "        unmet_demand.append(demand)\n",
    "\n",
    "        if row.sum() < min_qty and not pending_order:\n",
    "            delivery_date = index + 7 # replenish demand by ordering\n",
    "            pending_order = True\n",
    "\n",
    "        if index < len(inventory)-1: # update inventory levels for next day\n",
    "            for i in range(len(row)-1):\n",
    "                inventory.loc[index+1,i+1] += row[i]\n",
    "\n",
    "        expired.append(row.iloc[-1])\n",
    "        \n",
    "    return (sum(expired)*p1 + sum(unmet_demand)*p2)"
   ]
  },
  {
   "cell_type": "code",
   "execution_count": 38,
   "metadata": {},
   "outputs": [],
   "source": [
    "import scipy.optimize as optimize\n",
    "\n",
    "def cost(params):\n",
    "    order_qty, min_qty= params # <-- params is a NumPy array\n",
    "    return simulation_one_run(order_qty, min_qty)\n",
    "\n",
    "bnds = ((40000,200000),(10000, 200000))"
   ]
  },
  {
   "cell_type": "code",
   "execution_count": 39,
   "metadata": {},
   "outputs": [],
   "source": [
    "# simulate 10 times\n",
    "result_arr = []\n",
    "for i in range(10):\n",
    "    \n",
    "    # simulating daily demand table for the next 2 months\n",
    "    temp['demand'] = temp.apply(lambda x: generate_demand(x['yhat'],x['std_dev']), axis=1)\n",
    "    daily_demand = temp\n",
    "    \n",
    "    # optimizing parameters\n",
    "    result = optimize.differential_evolution(cost, bounds=bnds)\n",
    "    if result.success:\n",
    "        fitted_params = result.x\n",
    "        result_arr.append(fitted_params)\n",
    "    else:\n",
    "        raise ValueError(result.message)"
   ]
  },
  {
   "cell_type": "code",
   "execution_count": 40,
   "metadata": {},
   "outputs": [],
   "source": [
    "beginning_inventory = 140000\n",
    "# define cost/ penalty:\n",
    "p2 = 1 # unmet demand: penalty = 1\n",
    "p1 = 1 # expired product: penalty = 1\n",
    "\n",
    "def simulation_one_run_test(order_qty = 40000, min_qty = 20000): # parameters fixed order qty and min inventory levels\n",
    "    \n",
    "    # simulating daily demand table\n",
    "    temp['demand'] = temp.apply(lambda x: generate_demand(x['yhat'],x['std_dev']), axis=1)\n",
    "    daily_demand = temp\n",
    "    \n",
    "    delivery_date = -1 # date when order is supposed to be delivered\n",
    "    expired = []\n",
    "    unmet_demand = []\n",
    "    pending_order = False\n",
    "    # create inventory dataframe with beginning inventory = 140000. Columns represent how old the inventory is\n",
    "    inventory = pd.DataFrame(index= np.arange(56), columns=np.arange(7))\n",
    "    inventory.fillna(0, inplace=True)\n",
    "    inventory.iloc[0,0] = beginning_inventory\n",
    "    \n",
    "    for index, row in inventory.iterrows():\n",
    "        demand = daily_demand.loc[index,'demand'] # get demand for the day\n",
    "\n",
    "        if delivery_date == index: # receive order\n",
    "            row[0] += order_qty # parameter 2\n",
    "            pending_order = False\n",
    "\n",
    "        for i in range(len(row)-1,-1,-1): # iterate from 6 to 0. oldest inventory gets consumed first\n",
    "            if demand >= row[i]:\n",
    "                demand -= row[i]\n",
    "                row[i] = 0\n",
    "            else:\n",
    "                row[i] -= demand\n",
    "                demand = 0\n",
    "\n",
    "        unmet_demand.append(demand)\n",
    "\n",
    "        if row.sum() < min_qty and not pending_order:\n",
    "            delivery_date = index + 7 # replenish demand by ordering\n",
    "            pending_order = True\n",
    "\n",
    "        if index < len(inventory)-1: # update inventory levels for next day\n",
    "            for i in range(len(row)-1):\n",
    "                inventory.loc[index+1,i+1] += row[i]\n",
    "\n",
    "        expired.append(row.iloc[-1])\n",
    "        \n",
    "    return (sum(expired), sum(unmet_demand))"
   ]
  },
  {
   "cell_type": "code",
   "execution_count": 41,
   "metadata": {},
   "outputs": [
    {
     "name": "stdout",
     "output_type": "stream",
     "text": [
      "80336.2833651643 147347.1702789863\n",
      "78929.16807282917 15212.168072829165 63717\n",
      "78394.79003741576 166984.31995301254\n",
      "86397.88254427737 35118.88254427737 51279\n",
      "79947.68758997161 156310.45230825013\n",
      "65514.90261348765 17262.902613487648 48252\n",
      "79340.55396049199 143768.15774324356\n",
      "74988.31423392385 29839.314233923862 45149\n",
      "82567.32813529533 189292.0822388294\n",
      "65979.78610669317 4944.786106693171 61035\n",
      "80261.08806602882 146519.48625379952\n",
      "90926.59380342753 24025.59380342754 66901\n",
      "82690.39164241377 166177.290546776\n",
      "78190.85465521074 8049.85465521074 70141\n",
      "82652.08352627486 130793.9862512032\n",
      "65490.643977575695 8295.643977575695 57195\n",
      "82944.16614520206 154822.93960583827\n",
      "86297.08065205325 7789.080652053248 78508\n",
      "80921.44014551026 128764.88708771134\n",
      "67589.11777337894 15637.117773378941 51952\n"
     ]
    }
   ],
   "source": [
    "for fitted_parameters in result_arr:\n",
    "    a,b = simulation_one_run_test(fitted_parameters[0],fitted_parameters[1])\n",
    "    d = a + b\n",
    "    print(fitted_parameters[0],fitted_parameters[1])\n",
    "    print(d,b,a)# total penalty, b = unmet demand, c = expired"
   ]
  }
 ],
 "metadata": {
  "kernelspec": {
   "display_name": "Python 3 (ipykernel)",
   "language": "python",
   "name": "python3"
  },
  "language_info": {
   "codemirror_mode": {
    "name": "ipython",
    "version": 3
   },
   "file_extension": ".py",
   "mimetype": "text/x-python",
   "name": "python",
   "nbconvert_exporter": "python",
   "pygments_lexer": "ipython3",
   "version": "3.9.12"
  }
 },
 "nbformat": 4,
 "nbformat_minor": 1
}
